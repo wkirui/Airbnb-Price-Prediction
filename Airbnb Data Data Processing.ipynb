{
 "cells": [
  {
   "cell_type": "markdown",
   "metadata": {},
   "source": [
    "## Introduction\n",
    "In this notebook, I explore the data from the [**Inside Airbnb Project**](http://insideairbnb.com/)"
   ]
  },
  {
   "cell_type": "code",
   "execution_count": 548,
   "metadata": {},
   "outputs": [],
   "source": [
    "# import modules\n",
    "import pandas as pd\n",
    "import numpy as np\n",
    "import matplotlib.pyplot as plt\n",
    "import seaborn as sns\n",
    "from sklearn.model_selection import train_test_split\n",
    "from sklearn.ensemble import RandomForestRegressor\n",
    "from sklearn.metrics import mean_squared_error, mean_absolute_error\n",
    "%matplotlib inline"
   ]
  },
  {
   "cell_type": "code",
   "execution_count": 41,
   "metadata": {},
   "outputs": [],
   "source": [
    "# load data\n",
    "listings_data = pd.read_csv(\"data/listings.csv.gz\",compression='gzip',\n",
    "                            header=0,sep=',',quotechar='\"',error_bad_lines=False,\n",
    "                           low_memory=False)"
   ]
  },
  {
   "cell_type": "code",
   "execution_count": 42,
   "metadata": {},
   "outputs": [
    {
     "data": {
      "text/plain": [
       "(20432, 74)"
      ]
     },
     "execution_count": 42,
     "metadata": {},
     "output_type": "execute_result"
    }
   ],
   "source": [
    "# total listings\n",
    "listings_data.shape"
   ]
  },
  {
   "cell_type": "code",
   "execution_count": 43,
   "metadata": {},
   "outputs": [
    {
     "data": {
      "text/html": [
       "<div>\n",
       "<style scoped>\n",
       "    .dataframe tbody tr th:only-of-type {\n",
       "        vertical-align: middle;\n",
       "    }\n",
       "\n",
       "    .dataframe tbody tr th {\n",
       "        vertical-align: top;\n",
       "    }\n",
       "\n",
       "    .dataframe thead th {\n",
       "        text-align: right;\n",
       "    }\n",
       "</style>\n",
       "<table border=\"1\" class=\"dataframe\">\n",
       "  <thead>\n",
       "    <tr style=\"text-align: right;\">\n",
       "      <th></th>\n",
       "      <th>id</th>\n",
       "      <th>listing_url</th>\n",
       "      <th>scrape_id</th>\n",
       "      <th>last_scraped</th>\n",
       "      <th>name</th>\n",
       "      <th>description</th>\n",
       "      <th>neighborhood_overview</th>\n",
       "      <th>picture_url</th>\n",
       "      <th>host_id</th>\n",
       "      <th>host_url</th>\n",
       "      <th>...</th>\n",
       "      <th>review_scores_communication</th>\n",
       "      <th>review_scores_location</th>\n",
       "      <th>review_scores_value</th>\n",
       "      <th>license</th>\n",
       "      <th>instant_bookable</th>\n",
       "      <th>calculated_host_listings_count</th>\n",
       "      <th>calculated_host_listings_count_entire_homes</th>\n",
       "      <th>calculated_host_listings_count_private_rooms</th>\n",
       "      <th>calculated_host_listings_count_shared_rooms</th>\n",
       "      <th>reviews_per_month</th>\n",
       "    </tr>\n",
       "  </thead>\n",
       "  <tbody>\n",
       "    <tr>\n",
       "      <th>0</th>\n",
       "      <td>1944</td>\n",
       "      <td>https://www.airbnb.com/rooms/1944</td>\n",
       "      <td>20200830153825</td>\n",
       "      <td>2020-08-31</td>\n",
       "      <td>cafeheaven Pberg/Mitte</td>\n",
       "      <td>Private, bright and friendly room. You'd be sh...</td>\n",
       "      <td>near all the trendy cafés and flea markets and...</td>\n",
       "      <td>https://a0.muscache.com/pictures/107924758/1f4...</td>\n",
       "      <td>2164</td>\n",
       "      <td>https://www.airbnb.com/users/show/2164</td>\n",
       "      <td>...</td>\n",
       "      <td>9.0</td>\n",
       "      <td>9.0</td>\n",
       "      <td>8.0</td>\n",
       "      <td>NaN</td>\n",
       "      <td>f</td>\n",
       "      <td>2</td>\n",
       "      <td>0</td>\n",
       "      <td>2</td>\n",
       "      <td>0</td>\n",
       "      <td>0.21</td>\n",
       "    </tr>\n",
       "    <tr>\n",
       "      <th>1</th>\n",
       "      <td>3176</td>\n",
       "      <td>https://www.airbnb.com/rooms/3176</td>\n",
       "      <td>20200830153825</td>\n",
       "      <td>2020-08-31</td>\n",
       "      <td>Fabulous Flat in great Location</td>\n",
       "      <td>This beautiful first floor apartment  is situa...</td>\n",
       "      <td>The neighbourhood is famous for its variety of...</td>\n",
       "      <td>https://a0.muscache.com/pictures/243355/84afcf...</td>\n",
       "      <td>3718</td>\n",
       "      <td>https://www.airbnb.com/users/show/3718</td>\n",
       "      <td>...</td>\n",
       "      <td>9.0</td>\n",
       "      <td>10.0</td>\n",
       "      <td>9.0</td>\n",
       "      <td>NaN</td>\n",
       "      <td>f</td>\n",
       "      <td>1</td>\n",
       "      <td>1</td>\n",
       "      <td>0</td>\n",
       "      <td>0</td>\n",
       "      <td>1.07</td>\n",
       "    </tr>\n",
       "    <tr>\n",
       "      <th>2</th>\n",
       "      <td>3309</td>\n",
       "      <td>https://www.airbnb.com/rooms/3309</td>\n",
       "      <td>20200830153825</td>\n",
       "      <td>2020-09-01</td>\n",
       "      <td>BerlinSpot Schöneberg near KaDeWe</td>\n",
       "      <td>First of all:&lt;br /&gt;I prefer short-notice booki...</td>\n",
       "      <td>My flat is in the middle of West-Berlin, direc...</td>\n",
       "      <td>https://a0.muscache.com/pictures/29054294/b1fa...</td>\n",
       "      <td>4108</td>\n",
       "      <td>https://www.airbnb.com/users/show/4108</td>\n",
       "      <td>...</td>\n",
       "      <td>10.0</td>\n",
       "      <td>9.0</td>\n",
       "      <td>9.0</td>\n",
       "      <td>NaN</td>\n",
       "      <td>f</td>\n",
       "      <td>1</td>\n",
       "      <td>0</td>\n",
       "      <td>1</td>\n",
       "      <td>0</td>\n",
       "      <td>0.31</td>\n",
       "    </tr>\n",
       "    <tr>\n",
       "      <th>3</th>\n",
       "      <td>7071</td>\n",
       "      <td>https://www.airbnb.com/rooms/7071</td>\n",
       "      <td>20200830153825</td>\n",
       "      <td>2020-08-31</td>\n",
       "      <td>BrightRoom with sunny greenview!</td>\n",
       "      <td>Cozy and large room in the beautiful district ...</td>\n",
       "      <td>Great neighborhood with plenty of Cafés, Baker...</td>\n",
       "      <td>https://a0.muscache.com/pictures/21278/32a1622...</td>\n",
       "      <td>17391</td>\n",
       "      <td>https://www.airbnb.com/users/show/17391</td>\n",
       "      <td>...</td>\n",
       "      <td>10.0</td>\n",
       "      <td>10.0</td>\n",
       "      <td>9.0</td>\n",
       "      <td>NaN</td>\n",
       "      <td>t</td>\n",
       "      <td>1</td>\n",
       "      <td>0</td>\n",
       "      <td>1</td>\n",
       "      <td>0</td>\n",
       "      <td>2.18</td>\n",
       "    </tr>\n",
       "    <tr>\n",
       "      <th>4</th>\n",
       "      <td>9991</td>\n",
       "      <td>https://www.airbnb.com/rooms/9991</td>\n",
       "      <td>20200830153825</td>\n",
       "      <td>2020-08-31</td>\n",
       "      <td>Geourgeous flat - outstanding views</td>\n",
       "      <td>4 bedroom with very large windows and outstand...</td>\n",
       "      <td>Prenzlauer Berg is an amazing neighbourhood wh...</td>\n",
       "      <td>https://a0.muscache.com/pictures/42799131/59c8...</td>\n",
       "      <td>33852</td>\n",
       "      <td>https://www.airbnb.com/users/show/33852</td>\n",
       "      <td>...</td>\n",
       "      <td>10.0</td>\n",
       "      <td>10.0</td>\n",
       "      <td>10.0</td>\n",
       "      <td>03/Z/RA/003410-18</td>\n",
       "      <td>f</td>\n",
       "      <td>1</td>\n",
       "      <td>1</td>\n",
       "      <td>0</td>\n",
       "      <td>0</td>\n",
       "      <td>0.13</td>\n",
       "    </tr>\n",
       "  </tbody>\n",
       "</table>\n",
       "<p>5 rows × 74 columns</p>\n",
       "</div>"
      ],
      "text/plain": [
       "     id                        listing_url       scrape_id last_scraped  \\\n",
       "0  1944  https://www.airbnb.com/rooms/1944  20200830153825   2020-08-31   \n",
       "1  3176  https://www.airbnb.com/rooms/3176  20200830153825   2020-08-31   \n",
       "2  3309  https://www.airbnb.com/rooms/3309  20200830153825   2020-09-01   \n",
       "3  7071  https://www.airbnb.com/rooms/7071  20200830153825   2020-08-31   \n",
       "4  9991  https://www.airbnb.com/rooms/9991  20200830153825   2020-08-31   \n",
       "\n",
       "                                  name  \\\n",
       "0               cafeheaven Pberg/Mitte   \n",
       "1      Fabulous Flat in great Location   \n",
       "2    BerlinSpot Schöneberg near KaDeWe   \n",
       "3     BrightRoom with sunny greenview!   \n",
       "4  Geourgeous flat - outstanding views   \n",
       "\n",
       "                                         description  \\\n",
       "0  Private, bright and friendly room. You'd be sh...   \n",
       "1  This beautiful first floor apartment  is situa...   \n",
       "2  First of all:<br />I prefer short-notice booki...   \n",
       "3  Cozy and large room in the beautiful district ...   \n",
       "4  4 bedroom with very large windows and outstand...   \n",
       "\n",
       "                               neighborhood_overview  \\\n",
       "0  near all the trendy cafés and flea markets and...   \n",
       "1  The neighbourhood is famous for its variety of...   \n",
       "2  My flat is in the middle of West-Berlin, direc...   \n",
       "3  Great neighborhood with plenty of Cafés, Baker...   \n",
       "4  Prenzlauer Berg is an amazing neighbourhood wh...   \n",
       "\n",
       "                                         picture_url  host_id  \\\n",
       "0  https://a0.muscache.com/pictures/107924758/1f4...     2164   \n",
       "1  https://a0.muscache.com/pictures/243355/84afcf...     3718   \n",
       "2  https://a0.muscache.com/pictures/29054294/b1fa...     4108   \n",
       "3  https://a0.muscache.com/pictures/21278/32a1622...    17391   \n",
       "4  https://a0.muscache.com/pictures/42799131/59c8...    33852   \n",
       "\n",
       "                                  host_url  ... review_scores_communication  \\\n",
       "0   https://www.airbnb.com/users/show/2164  ...                         9.0   \n",
       "1   https://www.airbnb.com/users/show/3718  ...                         9.0   \n",
       "2   https://www.airbnb.com/users/show/4108  ...                        10.0   \n",
       "3  https://www.airbnb.com/users/show/17391  ...                        10.0   \n",
       "4  https://www.airbnb.com/users/show/33852  ...                        10.0   \n",
       "\n",
       "  review_scores_location review_scores_value            license  \\\n",
       "0                    9.0                 8.0                NaN   \n",
       "1                   10.0                 9.0                NaN   \n",
       "2                    9.0                 9.0                NaN   \n",
       "3                   10.0                 9.0                NaN   \n",
       "4                   10.0                10.0  03/Z/RA/003410-18   \n",
       "\n",
       "  instant_bookable calculated_host_listings_count  \\\n",
       "0                f                              2   \n",
       "1                f                              1   \n",
       "2                f                              1   \n",
       "3                t                              1   \n",
       "4                f                              1   \n",
       "\n",
       "  calculated_host_listings_count_entire_homes  \\\n",
       "0                                           0   \n",
       "1                                           1   \n",
       "2                                           0   \n",
       "3                                           0   \n",
       "4                                           1   \n",
       "\n",
       "  calculated_host_listings_count_private_rooms  \\\n",
       "0                                            2   \n",
       "1                                            0   \n",
       "2                                            1   \n",
       "3                                            1   \n",
       "4                                            0   \n",
       "\n",
       "  calculated_host_listings_count_shared_rooms reviews_per_month  \n",
       "0                                           0              0.21  \n",
       "1                                           0              1.07  \n",
       "2                                           0              0.31  \n",
       "3                                           0              2.18  \n",
       "4                                           0              0.13  \n",
       "\n",
       "[5 rows x 74 columns]"
      ]
     },
     "execution_count": 43,
     "metadata": {},
     "output_type": "execute_result"
    }
   ],
   "source": [
    "# data overview\n",
    "listings_data.head()"
   ]
  },
  {
   "cell_type": "code",
   "execution_count": 44,
   "metadata": {},
   "outputs": [
    {
     "name": "stdout",
     "output_type": "stream",
     "text": [
      "<class 'pandas.core.frame.DataFrame'>\n",
      "RangeIndex: 20432 entries, 0 to 20431\n",
      "Data columns (total 74 columns):\n",
      " #   Column                                        Non-Null Count  Dtype  \n",
      "---  ------                                        --------------  -----  \n",
      " 0   id                                            20432 non-null  int64  \n",
      " 1   listing_url                                   20432 non-null  object \n",
      " 2   scrape_id                                     20432 non-null  int64  \n",
      " 3   last_scraped                                  20432 non-null  object \n",
      " 4   name                                          20400 non-null  object \n",
      " 5   description                                   19918 non-null  object \n",
      " 6   neighborhood_overview                         11186 non-null  object \n",
      " 7   picture_url                                   20432 non-null  object \n",
      " 8   host_id                                       20432 non-null  int64  \n",
      " 9   host_url                                      20432 non-null  object \n",
      " 10  host_name                                     20420 non-null  object \n",
      " 11  host_since                                    20420 non-null  object \n",
      " 12  host_location                                 20368 non-null  object \n",
      " 13  host_about                                    10396 non-null  object \n",
      " 14  host_response_time                            10132 non-null  object \n",
      " 15  host_response_rate                            10132 non-null  object \n",
      " 16  host_acceptance_rate                          13617 non-null  object \n",
      " 17  host_is_superhost                             20420 non-null  object \n",
      " 18  host_thumbnail_url                            20420 non-null  object \n",
      " 19  host_picture_url                              20420 non-null  object \n",
      " 20  host_neighbourhood                            14900 non-null  object \n",
      " 21  host_listings_count                           20420 non-null  float64\n",
      " 22  host_total_listings_count                     20420 non-null  float64\n",
      " 23  host_verifications                            20432 non-null  object \n",
      " 24  host_has_profile_pic                          20420 non-null  object \n",
      " 25  host_identity_verified                        20420 non-null  object \n",
      " 26  neighbourhood                                 11187 non-null  object \n",
      " 27  neighbourhood_cleansed                        20432 non-null  object \n",
      " 28  neighbourhood_group_cleansed                  20432 non-null  object \n",
      " 29  latitude                                      20432 non-null  float64\n",
      " 30  longitude                                     20432 non-null  float64\n",
      " 31  property_type                                 20432 non-null  object \n",
      " 32  room_type                                     20432 non-null  object \n",
      " 33  accommodates                                  20432 non-null  int64  \n",
      " 34  bathrooms                                     0 non-null      float64\n",
      " 35  bathrooms_text                                20409 non-null  object \n",
      " 36  bedrooms                                      18742 non-null  float64\n",
      " 37  beds                                          20196 non-null  float64\n",
      " 38  amenities                                     20432 non-null  object \n",
      " 39  price                                         20432 non-null  object \n",
      " 40  minimum_nights                                20432 non-null  int64  \n",
      " 41  maximum_nights                                20432 non-null  int64  \n",
      " 42  minimum_minimum_nights                        20431 non-null  float64\n",
      " 43  maximum_minimum_nights                        20431 non-null  float64\n",
      " 44  minimum_maximum_nights                        20431 non-null  float64\n",
      " 45  maximum_maximum_nights                        20431 non-null  float64\n",
      " 46  minimum_nights_avg_ntm                        20431 non-null  float64\n",
      " 47  maximum_nights_avg_ntm                        20431 non-null  float64\n",
      " 48  calendar_updated                              0 non-null      float64\n",
      " 49  has_availability                              20432 non-null  object \n",
      " 50  availability_30                               20432 non-null  int64  \n",
      " 51  availability_60                               20432 non-null  int64  \n",
      " 52  availability_90                               20432 non-null  int64  \n",
      " 53  availability_365                              20432 non-null  int64  \n",
      " 54  calendar_last_scraped                         20432 non-null  object \n",
      " 55  number_of_reviews                             20432 non-null  int64  \n",
      " 56  number_of_reviews_ltm                         20432 non-null  int64  \n",
      " 57  number_of_reviews_l30d                        20432 non-null  int64  \n",
      " 58  first_review                                  16574 non-null  object \n",
      " 59  last_review                                   16574 non-null  object \n",
      " 60  review_scores_rating                          16153 non-null  float64\n",
      " 61  review_scores_accuracy                        16133 non-null  float64\n",
      " 62  review_scores_cleanliness                     16134 non-null  float64\n",
      " 63  review_scores_checkin                         16120 non-null  float64\n",
      " 64  review_scores_communication                   16131 non-null  float64\n",
      " 65  review_scores_location                        16122 non-null  float64\n",
      " 66  review_scores_value                           16119 non-null  float64\n",
      " 67  license                                       2399 non-null   object \n",
      " 68  instant_bookable                              20432 non-null  object \n",
      " 69  calculated_host_listings_count                20432 non-null  int64  \n",
      " 70  calculated_host_listings_count_entire_homes   20432 non-null  int64  \n",
      " 71  calculated_host_listings_count_private_rooms  20432 non-null  int64  \n",
      " 72  calculated_host_listings_count_shared_rooms   20432 non-null  int64  \n",
      " 73  reviews_per_month                             16574 non-null  float64\n",
      "dtypes: float64(22), int64(17), object(35)\n",
      "memory usage: 11.5+ MB\n"
     ]
    }
   ],
   "source": [
    "listings_data.info()"
   ]
  },
  {
   "cell_type": "code",
   "execution_count": 45,
   "metadata": {},
   "outputs": [],
   "source": [
    "# listings_data['bathrooms_text'].unique()"
   ]
  },
  {
   "cell_type": "code",
   "execution_count": 47,
   "metadata": {},
   "outputs": [
    {
     "name": "stdout",
     "output_type": "stream",
     "text": [
      "['id', 'listing_url', 'scrape_id', 'last_scraped', 'name', 'description', 'neighborhood_overview', 'picture_url', 'host_id', 'host_url', 'host_name', 'host_since', 'host_location', 'host_about', 'host_response_time', 'host_response_rate', 'host_acceptance_rate', 'host_is_superhost', 'host_thumbnail_url', 'host_picture_url', 'host_neighbourhood', 'host_listings_count', 'host_total_listings_count', 'host_verifications', 'host_has_profile_pic', 'host_identity_verified', 'neighbourhood', 'neighbourhood_cleansed', 'neighbourhood_group_cleansed', 'latitude', 'longitude', 'property_type', 'room_type', 'accommodates', 'bathrooms', 'bathrooms_text', 'bedrooms', 'beds', 'amenities', 'price', 'minimum_nights', 'maximum_nights', 'minimum_minimum_nights', 'maximum_minimum_nights', 'minimum_maximum_nights', 'maximum_maximum_nights', 'minimum_nights_avg_ntm', 'maximum_nights_avg_ntm', 'calendar_updated', 'has_availability', 'availability_30', 'availability_60', 'availability_90', 'availability_365', 'calendar_last_scraped', 'number_of_reviews', 'number_of_reviews_ltm', 'number_of_reviews_l30d', 'first_review', 'last_review', 'review_scores_rating', 'review_scores_accuracy', 'review_scores_cleanliness', 'review_scores_checkin', 'review_scores_communication', 'review_scores_location', 'review_scores_value', 'license', 'instant_bookable', 'calculated_host_listings_count', 'calculated_host_listings_count_entire_homes', 'calculated_host_listings_count_private_rooms', 'calculated_host_listings_count_shared_rooms', 'reviews_per_month']\n"
     ]
    }
   ],
   "source": [
    "# check data columns\n",
    "print([x for x in listings_data.columns])"
   ]
  },
  {
   "cell_type": "code",
   "execution_count": 48,
   "metadata": {},
   "outputs": [
    {
     "data": {
      "text/html": [
       "<div>\n",
       "<style scoped>\n",
       "    .dataframe tbody tr th:only-of-type {\n",
       "        vertical-align: middle;\n",
       "    }\n",
       "\n",
       "    .dataframe tbody tr th {\n",
       "        vertical-align: top;\n",
       "    }\n",
       "\n",
       "    .dataframe thead th {\n",
       "        text-align: right;\n",
       "    }\n",
       "</style>\n",
       "<table border=\"1\" class=\"dataframe\">\n",
       "  <thead>\n",
       "    <tr style=\"text-align: right;\">\n",
       "      <th></th>\n",
       "      <th>id</th>\n",
       "      <th>scrape_id</th>\n",
       "      <th>host_id</th>\n",
       "      <th>host_listings_count</th>\n",
       "      <th>host_total_listings_count</th>\n",
       "      <th>latitude</th>\n",
       "      <th>longitude</th>\n",
       "      <th>accommodates</th>\n",
       "      <th>bathrooms</th>\n",
       "      <th>bedrooms</th>\n",
       "      <th>...</th>\n",
       "      <th>review_scores_cleanliness</th>\n",
       "      <th>review_scores_checkin</th>\n",
       "      <th>review_scores_communication</th>\n",
       "      <th>review_scores_location</th>\n",
       "      <th>review_scores_value</th>\n",
       "      <th>calculated_host_listings_count</th>\n",
       "      <th>calculated_host_listings_count_entire_homes</th>\n",
       "      <th>calculated_host_listings_count_private_rooms</th>\n",
       "      <th>calculated_host_listings_count_shared_rooms</th>\n",
       "      <th>reviews_per_month</th>\n",
       "    </tr>\n",
       "  </thead>\n",
       "  <tbody>\n",
       "    <tr>\n",
       "      <th>count</th>\n",
       "      <td>2.043200e+04</td>\n",
       "      <td>2.043200e+04</td>\n",
       "      <td>2.043200e+04</td>\n",
       "      <td>20420.000000</td>\n",
       "      <td>20420.000000</td>\n",
       "      <td>20432.000000</td>\n",
       "      <td>20432.000000</td>\n",
       "      <td>20432.000000</td>\n",
       "      <td>0.0</td>\n",
       "      <td>18742.000000</td>\n",
       "      <td>...</td>\n",
       "      <td>16134.000000</td>\n",
       "      <td>16120.000000</td>\n",
       "      <td>16131.000000</td>\n",
       "      <td>16122.000000</td>\n",
       "      <td>16119.000000</td>\n",
       "      <td>20432.000000</td>\n",
       "      <td>20432.000000</td>\n",
       "      <td>20432.000000</td>\n",
       "      <td>20432.000000</td>\n",
       "      <td>16574.000000</td>\n",
       "    </tr>\n",
       "    <tr>\n",
       "      <th>mean</th>\n",
       "      <td>2.332114e+07</td>\n",
       "      <td>2.020083e+13</td>\n",
       "      <td>8.370147e+07</td>\n",
       "      <td>3.518805</td>\n",
       "      <td>3.518805</td>\n",
       "      <td>52.510082</td>\n",
       "      <td>13.405073</td>\n",
       "      <td>2.737177</td>\n",
       "      <td>NaN</td>\n",
       "      <td>1.266407</td>\n",
       "      <td>...</td>\n",
       "      <td>9.342878</td>\n",
       "      <td>9.742060</td>\n",
       "      <td>9.745459</td>\n",
       "      <td>9.613696</td>\n",
       "      <td>9.406849</td>\n",
       "      <td>2.778387</td>\n",
       "      <td>1.800607</td>\n",
       "      <td>0.708741</td>\n",
       "      <td>0.165916</td>\n",
       "      <td>0.872933</td>\n",
       "    </tr>\n",
       "    <tr>\n",
       "      <th>std</th>\n",
       "      <td>1.360409e+07</td>\n",
       "      <td>8.675994e+00</td>\n",
       "      <td>9.624043e+07</td>\n",
       "      <td>25.117581</td>\n",
       "      <td>25.117581</td>\n",
       "      <td>0.032100</td>\n",
       "      <td>0.062328</td>\n",
       "      <td>1.626837</td>\n",
       "      <td>NaN</td>\n",
       "      <td>0.621753</td>\n",
       "      <td>...</td>\n",
       "      <td>1.016055</td>\n",
       "      <td>0.683007</td>\n",
       "      <td>0.684740</td>\n",
       "      <td>0.729116</td>\n",
       "      <td>0.850242</td>\n",
       "      <td>6.329044</td>\n",
       "      <td>5.655676</td>\n",
       "      <td>1.294403</td>\n",
       "      <td>2.157332</td>\n",
       "      <td>1.259858</td>\n",
       "    </tr>\n",
       "    <tr>\n",
       "      <th>min</th>\n",
       "      <td>1.944000e+03</td>\n",
       "      <td>2.020083e+13</td>\n",
       "      <td>1.581000e+03</td>\n",
       "      <td>0.000000</td>\n",
       "      <td>0.000000</td>\n",
       "      <td>52.340480</td>\n",
       "      <td>13.097180</td>\n",
       "      <td>0.000000</td>\n",
       "      <td>NaN</td>\n",
       "      <td>1.000000</td>\n",
       "      <td>...</td>\n",
       "      <td>2.000000</td>\n",
       "      <td>2.000000</td>\n",
       "      <td>2.000000</td>\n",
       "      <td>2.000000</td>\n",
       "      <td>2.000000</td>\n",
       "      <td>1.000000</td>\n",
       "      <td>0.000000</td>\n",
       "      <td>0.000000</td>\n",
       "      <td>0.000000</td>\n",
       "      <td>0.010000</td>\n",
       "    </tr>\n",
       "    <tr>\n",
       "      <th>25%</th>\n",
       "      <td>1.162008e+07</td>\n",
       "      <td>2.020083e+13</td>\n",
       "      <td>1.054162e+07</td>\n",
       "      <td>1.000000</td>\n",
       "      <td>1.000000</td>\n",
       "      <td>52.489620</td>\n",
       "      <td>13.368640</td>\n",
       "      <td>2.000000</td>\n",
       "      <td>NaN</td>\n",
       "      <td>1.000000</td>\n",
       "      <td>...</td>\n",
       "      <td>9.000000</td>\n",
       "      <td>10.000000</td>\n",
       "      <td>10.000000</td>\n",
       "      <td>9.000000</td>\n",
       "      <td>9.000000</td>\n",
       "      <td>1.000000</td>\n",
       "      <td>0.000000</td>\n",
       "      <td>0.000000</td>\n",
       "      <td>0.000000</td>\n",
       "      <td>0.120000</td>\n",
       "    </tr>\n",
       "    <tr>\n",
       "      <th>50%</th>\n",
       "      <td>2.237021e+07</td>\n",
       "      <td>2.020083e+13</td>\n",
       "      <td>4.094528e+07</td>\n",
       "      <td>1.000000</td>\n",
       "      <td>1.000000</td>\n",
       "      <td>52.510100</td>\n",
       "      <td>13.414710</td>\n",
       "      <td>2.000000</td>\n",
       "      <td>NaN</td>\n",
       "      <td>1.000000</td>\n",
       "      <td>...</td>\n",
       "      <td>10.000000</td>\n",
       "      <td>10.000000</td>\n",
       "      <td>10.000000</td>\n",
       "      <td>10.000000</td>\n",
       "      <td>10.000000</td>\n",
       "      <td>1.000000</td>\n",
       "      <td>1.000000</td>\n",
       "      <td>0.000000</td>\n",
       "      <td>0.000000</td>\n",
       "      <td>0.370000</td>\n",
       "    </tr>\n",
       "    <tr>\n",
       "      <th>75%</th>\n",
       "      <td>3.595554e+07</td>\n",
       "      <td>2.020083e+13</td>\n",
       "      <td>1.276706e+08</td>\n",
       "      <td>2.000000</td>\n",
       "      <td>2.000000</td>\n",
       "      <td>52.532960</td>\n",
       "      <td>13.439213</td>\n",
       "      <td>3.000000</td>\n",
       "      <td>NaN</td>\n",
       "      <td>1.000000</td>\n",
       "      <td>...</td>\n",
       "      <td>10.000000</td>\n",
       "      <td>10.000000</td>\n",
       "      <td>10.000000</td>\n",
       "      <td>10.000000</td>\n",
       "      <td>10.000000</td>\n",
       "      <td>2.000000</td>\n",
       "      <td>1.000000</td>\n",
       "      <td>1.000000</td>\n",
       "      <td>0.000000</td>\n",
       "      <td>1.050000</td>\n",
       "    </tr>\n",
       "    <tr>\n",
       "      <th>max</th>\n",
       "      <td>4.519743e+07</td>\n",
       "      <td>2.020083e+13</td>\n",
       "      <td>3.648624e+08</td>\n",
       "      <td>1152.000000</td>\n",
       "      <td>1152.000000</td>\n",
       "      <td>52.656630</td>\n",
       "      <td>13.758420</td>\n",
       "      <td>16.000000</td>\n",
       "      <td>NaN</td>\n",
       "      <td>12.000000</td>\n",
       "      <td>...</td>\n",
       "      <td>10.000000</td>\n",
       "      <td>10.000000</td>\n",
       "      <td>10.000000</td>\n",
       "      <td>10.000000</td>\n",
       "      <td>10.000000</td>\n",
       "      <td>65.000000</td>\n",
       "      <td>65.000000</td>\n",
       "      <td>14.000000</td>\n",
       "      <td>38.000000</td>\n",
       "      <td>30.740000</td>\n",
       "    </tr>\n",
       "  </tbody>\n",
       "</table>\n",
       "<p>8 rows × 39 columns</p>\n",
       "</div>"
      ],
      "text/plain": [
       "                 id     scrape_id       host_id  host_listings_count  \\\n",
       "count  2.043200e+04  2.043200e+04  2.043200e+04         20420.000000   \n",
       "mean   2.332114e+07  2.020083e+13  8.370147e+07             3.518805   \n",
       "std    1.360409e+07  8.675994e+00  9.624043e+07            25.117581   \n",
       "min    1.944000e+03  2.020083e+13  1.581000e+03             0.000000   \n",
       "25%    1.162008e+07  2.020083e+13  1.054162e+07             1.000000   \n",
       "50%    2.237021e+07  2.020083e+13  4.094528e+07             1.000000   \n",
       "75%    3.595554e+07  2.020083e+13  1.276706e+08             2.000000   \n",
       "max    4.519743e+07  2.020083e+13  3.648624e+08          1152.000000   \n",
       "\n",
       "       host_total_listings_count      latitude     longitude  accommodates  \\\n",
       "count               20420.000000  20432.000000  20432.000000  20432.000000   \n",
       "mean                    3.518805     52.510082     13.405073      2.737177   \n",
       "std                    25.117581      0.032100      0.062328      1.626837   \n",
       "min                     0.000000     52.340480     13.097180      0.000000   \n",
       "25%                     1.000000     52.489620     13.368640      2.000000   \n",
       "50%                     1.000000     52.510100     13.414710      2.000000   \n",
       "75%                     2.000000     52.532960     13.439213      3.000000   \n",
       "max                  1152.000000     52.656630     13.758420     16.000000   \n",
       "\n",
       "       bathrooms      bedrooms  ...  review_scores_cleanliness  \\\n",
       "count        0.0  18742.000000  ...               16134.000000   \n",
       "mean         NaN      1.266407  ...                   9.342878   \n",
       "std          NaN      0.621753  ...                   1.016055   \n",
       "min          NaN      1.000000  ...                   2.000000   \n",
       "25%          NaN      1.000000  ...                   9.000000   \n",
       "50%          NaN      1.000000  ...                  10.000000   \n",
       "75%          NaN      1.000000  ...                  10.000000   \n",
       "max          NaN     12.000000  ...                  10.000000   \n",
       "\n",
       "       review_scores_checkin  review_scores_communication  \\\n",
       "count           16120.000000                 16131.000000   \n",
       "mean                9.742060                     9.745459   \n",
       "std                 0.683007                     0.684740   \n",
       "min                 2.000000                     2.000000   \n",
       "25%                10.000000                    10.000000   \n",
       "50%                10.000000                    10.000000   \n",
       "75%                10.000000                    10.000000   \n",
       "max                10.000000                    10.000000   \n",
       "\n",
       "       review_scores_location  review_scores_value  \\\n",
       "count            16122.000000         16119.000000   \n",
       "mean                 9.613696             9.406849   \n",
       "std                  0.729116             0.850242   \n",
       "min                  2.000000             2.000000   \n",
       "25%                  9.000000             9.000000   \n",
       "50%                 10.000000            10.000000   \n",
       "75%                 10.000000            10.000000   \n",
       "max                 10.000000            10.000000   \n",
       "\n",
       "       calculated_host_listings_count  \\\n",
       "count                    20432.000000   \n",
       "mean                         2.778387   \n",
       "std                          6.329044   \n",
       "min                          1.000000   \n",
       "25%                          1.000000   \n",
       "50%                          1.000000   \n",
       "75%                          2.000000   \n",
       "max                         65.000000   \n",
       "\n",
       "       calculated_host_listings_count_entire_homes  \\\n",
       "count                                 20432.000000   \n",
       "mean                                      1.800607   \n",
       "std                                       5.655676   \n",
       "min                                       0.000000   \n",
       "25%                                       0.000000   \n",
       "50%                                       1.000000   \n",
       "75%                                       1.000000   \n",
       "max                                      65.000000   \n",
       "\n",
       "       calculated_host_listings_count_private_rooms  \\\n",
       "count                                  20432.000000   \n",
       "mean                                       0.708741   \n",
       "std                                        1.294403   \n",
       "min                                        0.000000   \n",
       "25%                                        0.000000   \n",
       "50%                                        0.000000   \n",
       "75%                                        1.000000   \n",
       "max                                       14.000000   \n",
       "\n",
       "       calculated_host_listings_count_shared_rooms  reviews_per_month  \n",
       "count                                 20432.000000       16574.000000  \n",
       "mean                                      0.165916           0.872933  \n",
       "std                                       2.157332           1.259858  \n",
       "min                                       0.000000           0.010000  \n",
       "25%                                       0.000000           0.120000  \n",
       "50%                                       0.000000           0.370000  \n",
       "75%                                       0.000000           1.050000  \n",
       "max                                      38.000000          30.740000  \n",
       "\n",
       "[8 rows x 39 columns]"
      ]
     },
     "execution_count": 48,
     "metadata": {},
     "output_type": "execute_result"
    }
   ],
   "source": [
    "# data summary\n",
    "listings_data.describe()"
   ]
  },
  {
   "cell_type": "code",
   "execution_count": 10,
   "metadata": {},
   "outputs": [
    {
     "name": "stdout",
     "output_type": "stream",
     "text": [
      "[]\n"
     ]
    }
   ],
   "source": [
    "# print([x for x in listings_data.columns if 'deposit' in x])"
   ]
  },
  {
   "cell_type": "markdown",
   "metadata": {},
   "source": [
    "## 1. Data Processing"
   ]
  },
  {
   "cell_type": "code",
   "execution_count": 49,
   "metadata": {},
   "outputs": [
    {
     "data": {
      "text/plain": [
       "0     $20.00\n",
       "1     $90.00\n",
       "2     $29.00\n",
       "3     $45.00\n",
       "4    $180.00\n",
       "Name: price, dtype: object"
      ]
     },
     "execution_count": 49,
     "metadata": {},
     "output_type": "execute_result"
    }
   ],
   "source": [
    "# let's take a look at prices\n",
    "listings_data['price'].head()"
   ]
  },
  {
   "cell_type": "code",
   "execution_count": 50,
   "metadata": {},
   "outputs": [],
   "source": [
    "# clean up price values\n",
    "def clean_prices_column(df,col):\n",
    "    df[col] = df[col].str.replace('$','')\n",
    "    df[col] = df[col].str.split('.',expand=True)[0]\n",
    "    df[col] = df[col].str.replace(',','')\n",
    "    df[col] = df[col].astype(int,errors='ignore')\n",
    "    return df\n",
    "\n",
    "# apply function\n",
    "listings_data = clean_prices_column(listings_data,'price')\n",
    "\n",
    "# listings_data = clean_prices_column(listings_data,'weekly_price')\n",
    "# listings_data = clean_prices_column(listings_data,'monthly_price')\n",
    "# listings_data = clean_prices_column(listings_data,'security_deposit')\n",
    "# listings_data = clean_prices_column(listings_data,'cleaning_fee')\n",
    "# listings_data = clean_prices_column(listings_data,'extra_people')\n"
   ]
  },
  {
   "cell_type": "code",
   "execution_count": 54,
   "metadata": {},
   "outputs": [
    {
     "data": {
      "text/plain": [
       "count    20432.000000\n",
       "mean        68.782694\n",
       "std        111.290453\n",
       "min          0.000000\n",
       "25%         35.000000\n",
       "50%         50.000000\n",
       "75%         80.000000\n",
       "max       8000.000000\n",
       "Name: price, dtype: float64"
      ]
     },
     "execution_count": 54,
     "metadata": {},
     "output_type": "execute_result"
    }
   ],
   "source": [
    "listings_data['price'].describe()"
   ]
  },
  {
   "cell_type": "markdown",
   "metadata": {},
   "source": [
    "- As shown below, most apartments cost less than $500"
   ]
  },
  {
   "cell_type": "code",
   "execution_count": 75,
   "metadata": {},
   "outputs": [
    {
     "data": {
      "text/plain": [
       "82"
      ]
     },
     "execution_count": 75,
     "metadata": {},
     "output_type": "execute_result"
    }
   ],
   "source": [
    "# check 90th percentile distribution\n",
    "len(listings_data[listings_data['price']>listings_data['price'].quantile(0.9)])/len(listings_data)*100\n",
    "len(listings_data[listings_data['price']>=500])"
   ]
  },
  {
   "cell_type": "code",
   "execution_count": 40,
   "metadata": {},
   "outputs": [
    {
     "data": {
      "text/html": [
       "<div>\n",
       "<style scoped>\n",
       "    .dataframe tbody tr th:only-of-type {\n",
       "        vertical-align: middle;\n",
       "    }\n",
       "\n",
       "    .dataframe tbody tr th {\n",
       "        vertical-align: top;\n",
       "    }\n",
       "\n",
       "    .dataframe thead th {\n",
       "        text-align: right;\n",
       "    }\n",
       "</style>\n",
       "<table border=\"1\" class=\"dataframe\">\n",
       "  <thead>\n",
       "    <tr style=\"text-align: right;\">\n",
       "      <th></th>\n",
       "      <th>price</th>\n",
       "      <th>total</th>\n",
       "    </tr>\n",
       "  </thead>\n",
       "  <tbody>\n",
       "    <tr>\n",
       "      <th>0</th>\n",
       "      <td>0</td>\n",
       "      <td>3</td>\n",
       "    </tr>\n",
       "    <tr>\n",
       "      <th>1</th>\n",
       "      <td>8</td>\n",
       "      <td>4</td>\n",
       "    </tr>\n",
       "    <tr>\n",
       "      <th>2</th>\n",
       "      <td>9</td>\n",
       "      <td>11</td>\n",
       "    </tr>\n",
       "    <tr>\n",
       "      <th>3</th>\n",
       "      <td>10</td>\n",
       "      <td>32</td>\n",
       "    </tr>\n",
       "    <tr>\n",
       "      <th>4</th>\n",
       "      <td>11</td>\n",
       "      <td>18</td>\n",
       "    </tr>\n",
       "  </tbody>\n",
       "</table>\n",
       "</div>"
      ],
      "text/plain": [
       "   price  total\n",
       "0      0      3\n",
       "1      8      4\n",
       "2      9     11\n",
       "3     10     32\n",
       "4     11     18"
      ]
     },
     "execution_count": 40,
     "metadata": {},
     "output_type": "execute_result"
    }
   ],
   "source": [
    "# create price distribution summary\n",
    "price_dist = listings_data.groupby('price')['id'].count().rename('total').reset_index().sort_values(by='price',ascending=True)\n",
    "price_dist.head()\n",
    "# plot distribution\n",
    "# fig,ax=plt.subplots(figsize=(8,6))\n",
    "# sns.scatterplot('price','total',data=price_dist,ax=ax)\n",
    "# plt.title(\"Berlin Airbnb Prices Distribution\")\n",
    "# plt.show()\n"
   ]
  },
  {
   "cell_type": "code",
   "execution_count": 53,
   "metadata": {},
   "outputs": [
    {
     "name": "stdout",
     "output_type": "stream",
     "text": [
      "Total of 70 listings which is 0.34% of the dataset\n"
     ]
    }
   ],
   "source": [
    "# check listings that cost more than $2500\n",
    "listings_with_prices_above_2500 = listings_data[listings_data['price']>500]\n",
    "print(\"Total of\",listings_with_prices_above_2500.shape[0],\"listings which is\",\n",
    "      str(round((listings_with_prices_above_2500.shape[0]/len(listings_data))*100,2))+\"% of the dataset\")"
   ]
  },
  {
   "cell_type": "markdown",
   "metadata": {},
   "source": [
    "- This is a small number and we can consider excluding them from the overall data\n",
    "- I suspect the issue is using comma as a separator instead of dot for decimal values"
   ]
  },
  {
   "cell_type": "code",
   "execution_count": 191,
   "metadata": {
    "scrolled": true
   },
   "outputs": [
    {
     "data": {
      "image/png": "[encoded data removed]",
      "text/plain": [
       "<Figure size 360x216 with 1 Axes>"
      ]
     },
     "metadata": {
      "needs_background": "light"
     },
     "output_type": "display_data"
    }
   ],
   "source": [
    "# Plot price distribution\n",
    "fig,ax=plt.subplots(figsize=(5,3))\n",
    "sns.scatterplot(x='price',y='total',data=price_dist,ax=ax)\n",
    "plt.xlabel('Price ($)')\n",
    "plt.xticks(np.arange(0,8000,2000)) # adjust labels\n",
    "plt.ylabel('Total Listings')\n",
    "plt.title(\"Berlin Airbnb Prices Distribution\")\n",
    "txt = 'a) All listings'\n",
    "plt.figtext(0.4, -0.08, txt, wrap=True, horizontalalignment='center', fontsize=10)\n",
    "plt.show()"
   ]
  },
  {
   "cell_type": "code",
   "execution_count": 188,
   "metadata": {},
   "outputs": [
    {
     "data": {
      "image/png": "[encoded data removed]",
      "text/plain": [
       "<Figure size 360x216 with 1 Axes>"
      ]
     },
     "metadata": {
      "needs_background": "light"
     },
     "output_type": "display_data"
    }
   ],
   "source": [
    "# Plot price limit to $500 max\n",
    "fig,ax=plt.subplots(figsize=(5,3))\n",
    "sns.scatterplot(x='price',y='total',data=price_dist,ax=ax)\n",
    "plt.xlabel('Price ($)')\n",
    "plt.xlim(0,500)\n",
    "plt.ylabel('Total Listings')\n",
    "plt.title(\"Berlin Airbnb Prices Distribution\")\n",
    "txt = 'b) Listings with price <$500'\n",
    "plt.figtext(0.4, -0.08, txt, wrap=True, horizontalalignment='center', fontsize=10)\n",
    "plt.show()"
   ]
  },
  {
   "cell_type": "code",
   "execution_count": 98,
   "metadata": {},
   "outputs": [],
   "source": [
    "# calculate distance in km from the city center\n",
    "from math import radians,cos,sin,asin,sqrt\n",
    "\n",
    "# define berlin center coordinates\n",
    "center_lat = 52.521948\n",
    "center_lon = 13.413698\n",
    "\n",
    "# define harvesine function\n",
    "def calculate_distance_from_city_center(df,lat,lon,center_lat,center_lon):\n",
    "    \"\"\"\n",
    "    Calculates the great distance circle between\n",
    "    two gps coordinates\n",
    "    \"\"\"\n",
    "    # convert decimal degrees to radians\n",
    "    df['lat1'] = df[lat].apply(lambda x : radians(x))\n",
    "    df['lon1'] = df[lon].apply(lambda x : radians(x))\n",
    "    lat2 = radians(center_lat)\n",
    "    lon2 = radians(center_lon)\n",
    "    \n",
    "    # calculate harvesine distance\n",
    "    df['dlat'] = lat2-df['lat1']\n",
    "    df['dlon'] = lon2-df['lon1']\n",
    "    \n",
    "    df['sin_dlat'] = df['dlat'].apply(lambda x : sin(x/2)**2)\n",
    "    df['cos_lat1'] = df['lat1'].apply(lambda x : cos(x))\n",
    "    df['sin_dlon'] = df['dlon'].apply(lambda x : sin(x/2)**2)\n",
    "    \n",
    "    df['a'] = df['sin_dlat']+df['cos_lat1']*cos(lat2)*df['sin_dlon']\n",
    "    df['distance'] = df['a'].apply(lambda x : round(2*asin(sqrt(x))*6371,3))\n",
    "    \n",
    "    # drop calculation columns\n",
    "    df = df.drop(['sin_dlat','sin_dlon','cos_lat1','lat1','lon1','dlat','dlon','a'],axis=1)\n",
    "    \n",
    "    return df\n",
    "\n",
    "# apply function\n",
    "listings_data = calculate_distance_from_city_center(listings_data,\n",
    "                                                               'latitude','longitude',center_lat,center_lon)"
   ]
  },
  {
   "cell_type": "code",
   "execution_count": 167,
   "metadata": {},
   "outputs": [
    {
     "data": {
      "image/png": "[encoded data removed]",
      "text/plain": [
       "<Figure size 576x432 with 1 Axes>"
      ]
     },
     "metadata": {
      "needs_background": "light"
     },
     "output_type": "display_data"
    }
   ],
   "source": [
    "# plot price distribution against distance\n",
    "fig,ax=plt.subplots(figsize=(8,6))\n",
    "sns.scatterplot(x='distance',y='price',data=listings_data,ax=ax)\n",
    "plt.title(\"Price Distribution by Distance from the city center\")\n",
    "plt.xlabel('Distance (KM)')\n",
    "plt.ylabel('Price ($)')\n",
    "plt.ylim(0,1000)\n",
    "plt.show()"
   ]
  },
  {
   "cell_type": "markdown",
   "metadata": {},
   "source": [
    "In general, prices are lower as you move away from the city center"
   ]
  },
  {
   "cell_type": "code",
   "execution_count": 133,
   "metadata": {},
   "outputs": [
    {
     "data": {
      "image/png": "[encoded data removed]",
      "text/plain": [
       "<Figure size 576x432 with 1 Axes>"
      ]
     },
     "metadata": {
      "needs_background": "light"
     },
     "output_type": "display_data"
    }
   ],
   "source": [
    "# plot price distribution against number of bedrooms\n",
    "price_bed_dist = listings_data.groupby(['bedrooms'])['price'].mean().reset_index()\n",
    "price_bed_dist['bedrooms']=price_bed_dist['bedrooms'].astype(int)\n",
    "\n",
    "fig,ax=plt.subplots(figsize=(8,6))\n",
    "sns.barplot(x='bedrooms',y='price',data=price_bed_dist,ax=ax)\n",
    "plt.title(\"Price Distribution by Bedrooms\")\n",
    "plt.xlabel('Bedrooms')\n",
    "plt.ylabel('Mean Price ($)')\n",
    "plt.show()"
   ]
  },
  {
   "cell_type": "code",
   "execution_count": 132,
   "metadata": {},
   "outputs": [
    {
     "data": {
      "text/plain": [
       "260       61\n",
       "2690     153\n",
       "5817     490\n",
       "19613    400\n",
       "Name: price, dtype: int64"
      ]
     },
     "execution_count": 132,
     "metadata": {},
     "output_type": "execute_result"
    }
   ],
   "source": [
    "listings_data[listings_data['bedrooms']==7]['price']"
   ]
  },
  {
   "cell_type": "markdown",
   "metadata": {},
   "source": [
    "There are one-bedroom apartments that are quite expensive, but there is no clear linear relationship between prices and the number of bedrooms\n",
    "\n",
    "In the graph below, we look at apartments that cost less than $2000<br>\n",
    "It seems cheaper to rent an apartments with more than 4 bedrooms"
   ]
  },
  {
   "cell_type": "code",
   "execution_count": 14,
   "metadata": {},
   "outputs": [
    {
     "data": {
      "image/png": "[encoded data removed]",
      "text/plain": [
       "<Figure size 576x432 with 1 Axes>"
      ]
     },
     "metadata": {
      "needs_background": "light"
     },
     "output_type": "display_data"
    }
   ],
   "source": [
    "fig,ax=plt.subplots(figsize=(8,6))\n",
    "sns.scatterplot('bedrooms','price',data=listings_data,ax=ax)\n",
    "plt.ylim(0,2000)\n",
    "plt.title(\"Price Distribution by Bedrooms (price<$2000)\")\n",
    "plt.show()"
   ]
  },
  {
   "cell_type": "code",
   "execution_count": 140,
   "metadata": {},
   "outputs": [
    {
     "data": {
      "text/plain": [
       "array([ 1,  4,  2,  7,  5,  8,  3,  6, 14, 12,  9, 10, 16, 11, 15, 13,  0])"
      ]
     },
     "execution_count": 140,
     "metadata": {},
     "output_type": "execute_result"
    }
   ],
   "source": [
    "listings_data['accommodates'].unique()"
   ]
  },
  {
   "cell_type": "code",
   "execution_count": 145,
   "metadata": {},
   "outputs": [
    {
     "data": {
      "image/png": "[encoded data removed]",
      "text/plain": [
       "<Figure size 576x432 with 1 Axes>"
      ]
     },
     "metadata": {
      "needs_background": "light"
     },
     "output_type": "display_data"
    }
   ],
   "source": [
    "# number of guests\n",
    "price_guest_dist = listings_data.groupby(['accommodates'])['price'].mean().reset_index()\n",
    "price_guest_dist['accommodates']=price_guest_dist['accommodates'].astype(int)\n",
    "\n",
    "fig,ax=plt.subplots(figsize=(8,6))\n",
    "sns.barplot(x='accommodates',y='price',data=price_guest_dist,ax=ax)\n",
    "plt.title(\"Price Distribution by Number of Guests\")\n",
    "plt.xlabel('Guests')\n",
    "plt.ylabel('Mean Price ($)')\n",
    "plt.show()\n",
    "# price_guest_dist.head()"
   ]
  },
  {
   "cell_type": "code",
   "execution_count": 147,
   "metadata": {},
   "outputs": [
    {
     "data": {
      "image/png": "[encoded data removed]",
      "text/plain": [
       "<Figure size 576x432 with 1 Axes>"
      ]
     },
     "metadata": {
      "needs_background": "light"
     },
     "output_type": "display_data"
    }
   ],
   "source": [
    "# average prices by room type\n",
    "price_roomtype_dist = listings_data.groupby('room_type')['price'].mean().rename('price').reset_index().sort_values(by='price')\n",
    "\n",
    "fig,ax=plt.subplots(figsize=(8,6))\n",
    "sns.barplot(x='room_type',y='price',data=price_roomtype_dist,ax=ax)\n",
    "plt.title(\"Price Distribution by Room Type\")\n",
    "plt.xlabel('')\n",
    "plt.ylabel('Mean Price ($)')\n",
    "plt.show()\n",
    "# price_guest_dist.head()\n"
   ]
  },
  {
   "cell_type": "markdown",
   "metadata": {},
   "source": [
    "It's cheaper to stay in a private room"
   ]
  },
  {
   "cell_type": "code",
   "execution_count": 16,
   "metadata": {},
   "outputs": [
    {
     "data": {
      "text/html": [
       "<div>\n",
       "<style scoped>\n",
       "    .dataframe tbody tr th:only-of-type {\n",
       "        vertical-align: middle;\n",
       "    }\n",
       "\n",
       "    .dataframe tbody tr th {\n",
       "        vertical-align: top;\n",
       "    }\n",
       "\n",
       "    .dataframe thead th {\n",
       "        text-align: right;\n",
       "    }\n",
       "</style>\n",
       "<table border=\"1\" class=\"dataframe\">\n",
       "  <thead>\n",
       "    <tr style=\"text-align: right;\">\n",
       "      <th></th>\n",
       "      <th>host_is_superhost</th>\n",
       "      <th>avg_price</th>\n",
       "    </tr>\n",
       "  </thead>\n",
       "  <tbody>\n",
       "    <tr>\n",
       "      <th>0</th>\n",
       "      <td>f</td>\n",
       "      <td>71.767679</td>\n",
       "    </tr>\n",
       "    <tr>\n",
       "      <th>1</th>\n",
       "      <td>t</td>\n",
       "      <td>86.408808</td>\n",
       "    </tr>\n",
       "  </tbody>\n",
       "</table>\n",
       "</div>"
      ],
      "text/plain": [
       "  host_is_superhost  avg_price\n",
       "0                 f  71.767679\n",
       "1                 t  86.408808"
      ]
     },
     "execution_count": 16,
     "metadata": {},
     "output_type": "execute_result"
    }
   ],
   "source": [
    "# average prices by superhost\n",
    "listings_data.groupby('host_is_superhost')['price'].mean().rename('avg_price').reset_index().sort_values(by='avg_price')"
   ]
  },
  {
   "cell_type": "markdown",
   "metadata": {},
   "source": [
    "You could save a few dollars by staying with non-superhost!"
   ]
  },
  {
   "cell_type": "code",
   "execution_count": 162,
   "metadata": {},
   "outputs": [
    {
     "data": {
      "image/png": "[encoded data removed]",
      "text/plain": [
       "<Figure size 720x432 with 1 Axes>"
      ]
     },
     "metadata": {
      "needs_background": "light"
     },
     "output_type": "display_data"
    }
   ],
   "source": [
    "# how do these prices differ by neighbourhood?\n",
    "neighborhood_group_summary = listings_data.groupby('neighbourhood_group_cleansed')['price'].mean().rename('avg_price').reset_index().sort_values(by='avg_price')\n",
    "neighborhood_group_summary.columns = ['neighbourhood','avg_price']\n",
    "# cleanup neighbourhood names\n",
    "neighborhood_group_summary['neighbourhood'] = neighborhood_group_summary['neighbourhood'].str.split('-',expand=True)[0]\n",
    "\n",
    "fig,ax = plt.subplots(figsize=(10,6))\n",
    "plt.bar('neighbourhood','avg_price',data=neighborhood_group_summary)\n",
    "plt.xticks(rotation=30)\n",
    "plt.xlabel('')\n",
    "plt.ylabel('Mean Price ($)')\n",
    "plt.title(\"Price Distribution by Neighbourhood\")\n",
    "plt.show()"
   ]
  },
  {
   "cell_type": "code",
   "execution_count": 166,
   "metadata": {},
   "outputs": [
    {
     "data": {
      "text/html": [
       "<div>\n",
       "<style scoped>\n",
       "    .dataframe tbody tr th:only-of-type {\n",
       "        vertical-align: middle;\n",
       "    }\n",
       "\n",
       "    .dataframe tbody tr th {\n",
       "        vertical-align: top;\n",
       "    }\n",
       "\n",
       "    .dataframe thead th {\n",
       "        text-align: right;\n",
       "    }\n",
       "</style>\n",
       "<table border=\"1\" class=\"dataframe\">\n",
       "  <thead>\n",
       "    <tr style=\"text-align: right;\">\n",
       "      <th></th>\n",
       "      <th>neighbourhood_group_cleansed</th>\n",
       "      <th>distance</th>\n",
       "    </tr>\n",
       "  </thead>\n",
       "  <tbody>\n",
       "    <tr>\n",
       "      <th>6</th>\n",
       "      <td>Pankow</td>\n",
       "      <td>2.927991</td>\n",
       "    </tr>\n",
       "    <tr>\n",
       "      <th>4</th>\n",
       "      <td>Mitte</td>\n",
       "      <td>3.121449</td>\n",
       "    </tr>\n",
       "    <tr>\n",
       "      <th>1</th>\n",
       "      <td>Friedrichshain</td>\n",
       "      <td>3.172359</td>\n",
       "    </tr>\n",
       "    <tr>\n",
       "      <th>5</th>\n",
       "      <td>Neukölln</td>\n",
       "      <td>5.208431</td>\n",
       "    </tr>\n",
       "    <tr>\n",
       "      <th>2</th>\n",
       "      <td>Lichtenberg</td>\n",
       "      <td>5.930482</td>\n",
       "    </tr>\n",
       "    <tr>\n",
       "      <th>10</th>\n",
       "      <td>Tempelhof</td>\n",
       "      <td>6.190764</td>\n",
       "    </tr>\n",
       "    <tr>\n",
       "      <th>0</th>\n",
       "      <td>Charlottenburg</td>\n",
       "      <td>7.704026</td>\n",
       "    </tr>\n",
       "    <tr>\n",
       "      <th>7</th>\n",
       "      <td>Reinickendorf</td>\n",
       "      <td>9.042895</td>\n",
       "    </tr>\n",
       "    <tr>\n",
       "      <th>3</th>\n",
       "      <td>Marzahn</td>\n",
       "      <td>11.062181</td>\n",
       "    </tr>\n",
       "    <tr>\n",
       "      <th>11</th>\n",
       "      <td>Treptow</td>\n",
       "      <td>11.487626</td>\n",
       "    </tr>\n",
       "    <tr>\n",
       "      <th>9</th>\n",
       "      <td>Steglitz</td>\n",
       "      <td>12.228014</td>\n",
       "    </tr>\n",
       "    <tr>\n",
       "      <th>8</th>\n",
       "      <td>Spandau</td>\n",
       "      <td>15.409437</td>\n",
       "    </tr>\n",
       "  </tbody>\n",
       "</table>\n",
       "</div>"
      ],
      "text/plain": [
       "   neighbourhood_group_cleansed   distance\n",
       "6                        Pankow   2.927991\n",
       "4                         Mitte   3.121449\n",
       "1                Friedrichshain   3.172359\n",
       "5                      Neukölln   5.208431\n",
       "2                   Lichtenberg   5.930482\n",
       "10                   Tempelhof    6.190764\n",
       "0                Charlottenburg   7.704026\n",
       "7                 Reinickendorf   9.042895\n",
       "3                      Marzahn   11.062181\n",
       "11                     Treptow   11.487626\n",
       "9                     Steglitz   12.228014\n",
       "8                       Spandau  15.409437"
      ]
     },
     "execution_count": 166,
     "metadata": {},
     "output_type": "execute_result"
    }
   ],
   "source": [
    "# Distance Summary from city center\n",
    "neighborhood_dist_summary = listings_data.groupby('neighbourhood_group_cleansed')['distance'].mean().rename('distance').reset_index().sort_values(by='distance')\n",
    "neighborhood_dist_summary['neighbourhood_group_cleansed'] = neighborhood_dist_summary['neighbourhood_group_cleansed'].str.split('-',expand=True)[0]\n",
    "neighborhood_dist_summary"
   ]
  },
  {
   "cell_type": "markdown",
   "metadata": {},
   "source": [
    "- Charlettenburg-Wilmersdof borough has the most expensive airbnb apartments on average ($114)\n",
    "\n",
    "- Reinickendorf apartments are the cheapest ($48)"
   ]
  },
  {
   "cell_type": "code",
   "execution_count": 18,
   "metadata": {},
   "outputs": [
    {
     "data": {
      "text/html": [
       "<div>\n",
       "<style scoped>\n",
       "    .dataframe tbody tr th:only-of-type {\n",
       "        vertical-align: middle;\n",
       "    }\n",
       "\n",
       "    .dataframe tbody tr th {\n",
       "        vertical-align: top;\n",
       "    }\n",
       "\n",
       "    .dataframe thead th {\n",
       "        text-align: right;\n",
       "    }\n",
       "</style>\n",
       "<table border=\"1\" class=\"dataframe\">\n",
       "  <thead>\n",
       "    <tr style=\"text-align: right;\">\n",
       "      <th></th>\n",
       "      <th>neighbourhood_group_cleansed</th>\n",
       "      <th>neighbourhood_cleansed</th>\n",
       "      <th>avg_price</th>\n",
       "    </tr>\n",
       "  </thead>\n",
       "  <tbody>\n",
       "    <tr>\n",
       "      <th>35</th>\n",
       "      <td>Lichtenberg</td>\n",
       "      <td>Neu-Hohenschönhausen Süd</td>\n",
       "      <td>22.000000</td>\n",
       "    </tr>\n",
       "    <tr>\n",
       "      <th>40</th>\n",
       "      <td>Marzahn - Hellersdorf</td>\n",
       "      <td>Hellersdorf-Süd</td>\n",
       "      <td>30.142857</td>\n",
       "    </tr>\n",
       "    <tr>\n",
       "      <th>43</th>\n",
       "      <td>Marzahn - Hellersdorf</td>\n",
       "      <td>Marzahn-Mitte</td>\n",
       "      <td>31.200000</td>\n",
       "    </tr>\n",
       "    <tr>\n",
       "      <th>30</th>\n",
       "      <td>Lichtenberg</td>\n",
       "      <td>Friedrichsfelde Süd</td>\n",
       "      <td>31.551020</td>\n",
       "    </tr>\n",
       "    <tr>\n",
       "      <th>90</th>\n",
       "      <td>Reinickendorf</td>\n",
       "      <td>West 4</td>\n",
       "      <td>34.857143</td>\n",
       "    </tr>\n",
       "    <tr>\n",
       "      <th>58</th>\n",
       "      <td>Neukölln</td>\n",
       "      <td>Gropiusstadt</td>\n",
       "      <td>35.533333</td>\n",
       "    </tr>\n",
       "    <tr>\n",
       "      <th>103</th>\n",
       "      <td>Steglitz - Zehlendorf</td>\n",
       "      <td>Lankwitz</td>\n",
       "      <td>36.516129</td>\n",
       "    </tr>\n",
       "    <tr>\n",
       "      <th>92</th>\n",
       "      <td>Spandau</td>\n",
       "      <td>Brunsbütteler Damm</td>\n",
       "      <td>37.083333</td>\n",
       "    </tr>\n",
       "    <tr>\n",
       "      <th>98</th>\n",
       "      <td>Spandau</td>\n",
       "      <td>Siemensstadt</td>\n",
       "      <td>37.125000</td>\n",
       "    </tr>\n",
       "    <tr>\n",
       "      <th>85</th>\n",
       "      <td>Reinickendorf</td>\n",
       "      <td>Ost 1</td>\n",
       "      <td>40.830769</td>\n",
       "    </tr>\n",
       "  </tbody>\n",
       "</table>\n",
       "</div>"
      ],
      "text/plain": [
       "    neighbourhood_group_cleansed    neighbourhood_cleansed  avg_price\n",
       "35                   Lichtenberg  Neu-Hohenschönhausen Süd  22.000000\n",
       "40         Marzahn - Hellersdorf           Hellersdorf-Süd  30.142857\n",
       "43         Marzahn - Hellersdorf             Marzahn-Mitte  31.200000\n",
       "30                   Lichtenberg       Friedrichsfelde Süd  31.551020\n",
       "90                 Reinickendorf                    West 4  34.857143\n",
       "58                      Neukölln              Gropiusstadt  35.533333\n",
       "103        Steglitz - Zehlendorf                  Lankwitz  36.516129\n",
       "92                       Spandau        Brunsbütteler Damm  37.083333\n",
       "98                       Spandau              Siemensstadt  37.125000\n",
       "85                 Reinickendorf                     Ost 1  40.830769"
      ]
     },
     "execution_count": 18,
     "metadata": {},
     "output_type": "execute_result"
    }
   ],
   "source": [
    "# we can also check prices by neighbourhood\n",
    "listings_data.groupby(['neighbourhood_group_cleansed','neighbourhood_cleansed'])['price'].mean().rename('avg_price').reset_index().sort_values(by='avg_price')[0:10]"
   ]
  },
  {
   "cell_type": "code",
   "execution_count": 194,
   "metadata": {},
   "outputs": [
    {
     "data": {
      "image/png": "[encoded data removed]",
      "text/plain": [
       "<Figure size 576x432 with 1 Axes>"
      ]
     },
     "metadata": {
      "needs_background": "light"
     },
     "output_type": "display_data"
    }
   ],
   "source": [
    "# plot average prices by review score rating\n",
    "review_score_rating_sum = listings_data.groupby(['review_scores_rating'])['price'].mean().rename('avg_price').reset_index().sort_values(by='avg_price')\n",
    "\n",
    "#plot distribution\n",
    "fig,ax=plt.subplots(figsize=(8,6))\n",
    "sns.scatterplot(x='review_scores_rating',y='avg_price',color='darkorange',data=review_score_rating_sum,ax=ax)\n",
    "plt.ylim(0,150)\n",
    "plt.title(\"Average Prices by Review Scores\")\n",
    "plt.ylabel('Price ($)')\n",
    "plt.xlabel('Review Score')\n",
    "plt.show()"
   ]
  },
  {
   "cell_type": "markdown",
   "metadata": {},
   "source": [
    "- Apartments with high review score ratings are more expensive"
   ]
  },
  {
   "cell_type": "code",
   "execution_count": null,
   "metadata": {},
   "outputs": [],
   "source": []
  },
  {
   "cell_type": "markdown",
   "metadata": {},
   "source": [
    "## 2. Feature Selection"
   ]
  },
  {
   "cell_type": "code",
   "execution_count": 223,
   "metadata": {},
   "outputs": [
    {
     "name": "stdout",
     "output_type": "stream",
     "text": [
      "Total columns: 9\n",
      "['calendar_updated', 'bathrooms', 'license', 'host_response_time', 'host_response_rate', 'host_about', 'neighborhood_overview', 'neighbourhood', 'host_acceptance_rate']\n"
     ]
    }
   ],
   "source": [
    "# check percentage of missing values by column\n",
    "percent_missing_values = round((listings_data.isnull().sum()/len(listings_data))*100,2)\n",
    "percent_missing_values = pd.DataFrame({\"column_name\":listings_data.columns,\n",
    "                                     \"%_missing_values\":percent_missing_values})\n",
    "percent_missing_values = percent_missing_values.reset_index(drop=True)\n",
    "# sort by % of missing values\n",
    "percent_missing_values = percent_missing_values.sort_values(by='%_missing_values',ascending=False)\n",
    "# percent_missing_values.head(10)\n",
    "\n",
    "print(\"Total columns:\",len(percent_missing_values[percent_missing_values['%_missing_values']>30]))\n",
    "columns_missing_more_than_30_pct_vals = [x for x in percent_missing_values[percent_missing_values['%_missing_values']>30]['column_name']]\n",
    "print(columns_missing_more_than_30_pct_vals)"
   ]
  },
  {
   "cell_type": "markdown",
   "metadata": {},
   "source": [
    "- We have 9 columns with more than 30% values missing\n",
    "- We can drop these columns from our data"
   ]
  },
  {
   "cell_type": "code",
   "execution_count": 266,
   "metadata": {},
   "outputs": [
    {
     "data": {
      "text/plain": [
       "(20432, 66)"
      ]
     },
     "execution_count": 266,
     "metadata": {},
     "output_type": "execute_result"
    }
   ],
   "source": [
    "# drop columns with more than 30% missing values\n",
    "reshaped_listings_data = listings_data.drop(columns_missing_more_than_30_pct_vals,axis=1)\n",
    "reshaped_listings_data.shape"
   ]
  },
  {
   "cell_type": "code",
   "execution_count": 267,
   "metadata": {},
   "outputs": [
    {
     "data": {
      "text/html": [
       "<div>\n",
       "<style scoped>\n",
       "    .dataframe tbody tr th:only-of-type {\n",
       "        vertical-align: middle;\n",
       "    }\n",
       "\n",
       "    .dataframe tbody tr th {\n",
       "        vertical-align: top;\n",
       "    }\n",
       "\n",
       "    .dataframe thead th {\n",
       "        text-align: right;\n",
       "    }\n",
       "</style>\n",
       "<table border=\"1\" class=\"dataframe\">\n",
       "  <thead>\n",
       "    <tr style=\"text-align: right;\">\n",
       "      <th></th>\n",
       "      <th>column_name</th>\n",
       "      <th>%_missing_values</th>\n",
       "    </tr>\n",
       "  </thead>\n",
       "  <tbody>\n",
       "    <tr>\n",
       "      <th>20</th>\n",
       "      <td>host_neighbourhood</td>\n",
       "      <td>27.08</td>\n",
       "    </tr>\n",
       "    <tr>\n",
       "      <th>66</th>\n",
       "      <td>review_scores_value</td>\n",
       "      <td>21.11</td>\n",
       "    </tr>\n",
       "    <tr>\n",
       "      <th>63</th>\n",
       "      <td>review_scores_checkin</td>\n",
       "      <td>21.10</td>\n",
       "    </tr>\n",
       "    <tr>\n",
       "      <th>65</th>\n",
       "      <td>review_scores_location</td>\n",
       "      <td>21.09</td>\n",
       "    </tr>\n",
       "    <tr>\n",
       "      <th>64</th>\n",
       "      <td>review_scores_communication</td>\n",
       "      <td>21.05</td>\n",
       "    </tr>\n",
       "    <tr>\n",
       "      <th>62</th>\n",
       "      <td>review_scores_cleanliness</td>\n",
       "      <td>21.04</td>\n",
       "    </tr>\n",
       "    <tr>\n",
       "      <th>61</th>\n",
       "      <td>review_scores_accuracy</td>\n",
       "      <td>21.04</td>\n",
       "    </tr>\n",
       "    <tr>\n",
       "      <th>60</th>\n",
       "      <td>review_scores_rating</td>\n",
       "      <td>20.94</td>\n",
       "    </tr>\n",
       "    <tr>\n",
       "      <th>59</th>\n",
       "      <td>last_review</td>\n",
       "      <td>18.88</td>\n",
       "    </tr>\n",
       "    <tr>\n",
       "      <th>73</th>\n",
       "      <td>reviews_per_month</td>\n",
       "      <td>18.88</td>\n",
       "    </tr>\n",
       "    <tr>\n",
       "      <th>58</th>\n",
       "      <td>first_review</td>\n",
       "      <td>18.88</td>\n",
       "    </tr>\n",
       "    <tr>\n",
       "      <th>36</th>\n",
       "      <td>bedrooms</td>\n",
       "      <td>8.27</td>\n",
       "    </tr>\n",
       "    <tr>\n",
       "      <th>5</th>\n",
       "      <td>description</td>\n",
       "      <td>2.52</td>\n",
       "    </tr>\n",
       "    <tr>\n",
       "      <th>37</th>\n",
       "      <td>beds</td>\n",
       "      <td>1.16</td>\n",
       "    </tr>\n",
       "  </tbody>\n",
       "</table>\n",
       "</div>"
      ],
      "text/plain": [
       "                    column_name  %_missing_values\n",
       "20           host_neighbourhood             27.08\n",
       "66          review_scores_value             21.11\n",
       "63        review_scores_checkin             21.10\n",
       "65       review_scores_location             21.09\n",
       "64  review_scores_communication             21.05\n",
       "62    review_scores_cleanliness             21.04\n",
       "61       review_scores_accuracy             21.04\n",
       "60         review_scores_rating             20.94\n",
       "59                  last_review             18.88\n",
       "73            reviews_per_month             18.88\n",
       "58                 first_review             18.88\n",
       "36                     bedrooms              8.27\n",
       "5                   description              2.52\n",
       "37                         beds              1.16"
      ]
     },
     "execution_count": 267,
     "metadata": {},
     "output_type": "execute_result"
    }
   ],
   "source": [
    "# columns missing between 5% & 30\n",
    "cols_btn_1_and_30pct_missing_val = percent_missing_values[(percent_missing_values['%_missing_values']>=1) &\n",
    "                                (percent_missing_values['%_missing_values']<=30)]\n",
    "cols_btn_1_and_30pct_missing_val"
   ]
  },
  {
   "cell_type": "code",
   "execution_count": 268,
   "metadata": {
    "scrolled": false
   },
   "outputs": [
    {
     "name": "stdout",
     "output_type": "stream",
     "text": [
      "<class 'pandas.core.frame.DataFrame'>\n",
      "RangeIndex: 20432 entries, 0 to 20431\n",
      "Data columns (total 14 columns):\n",
      " #   Column                       Non-Null Count  Dtype  \n",
      "---  ------                       --------------  -----  \n",
      " 0   host_neighbourhood           14900 non-null  object \n",
      " 1   review_scores_value          16119 non-null  float64\n",
      " 2   review_scores_checkin        16120 non-null  float64\n",
      " 3   review_scores_location       16122 non-null  float64\n",
      " 4   review_scores_communication  16131 non-null  float64\n",
      " 5   review_scores_cleanliness    16134 non-null  float64\n",
      " 6   review_scores_accuracy       16133 non-null  float64\n",
      " 7   review_scores_rating         16153 non-null  float64\n",
      " 8   last_review                  16574 non-null  object \n",
      " 9   reviews_per_month            16574 non-null  float64\n",
      " 10  first_review                 16574 non-null  object \n",
      " 11  bedrooms                     18742 non-null  float64\n",
      " 12  description                  19918 non-null  object \n",
      " 13  beds                         20196 non-null  float64\n",
      "dtypes: float64(10), object(4)\n",
      "memory usage: 2.2+ MB\n"
     ]
    }
   ],
   "source": [
    "# check columns with missing data\n",
    "cols_to_check =  [x for x in cols_btn_1_and_30pct_missing_val['column_name'].unique()]\n",
    "listings_data[cols_to_check].info()"
   ]
  },
  {
   "cell_type": "markdown",
   "metadata": {},
   "source": [
    "Keeping these columns for now so that we can impute the missing values"
   ]
  },
  {
   "cell_type": "code",
   "execution_count": 269,
   "metadata": {},
   "outputs": [
    {
     "name": "stdout",
     "output_type": "stream",
     "text": [
      "['id', 'listing_url', 'scrape_id', 'last_scraped', 'name', 'description', 'picture_url', 'host_id', 'host_url', 'host_name', 'host_since', 'host_location', 'host_is_superhost', 'host_thumbnail_url', 'host_picture_url', 'host_neighbourhood', 'host_listings_count', 'host_total_listings_count', 'host_verifications', 'host_has_profile_pic', 'host_identity_verified', 'neighbourhood_cleansed', 'neighbourhood_group_cleansed', 'latitude', 'longitude', 'property_type', 'room_type', 'accommodates', 'bathrooms_text', 'bedrooms', 'beds', 'amenities', 'price', 'minimum_nights', 'maximum_nights', 'minimum_minimum_nights', 'maximum_minimum_nights', 'minimum_maximum_nights', 'maximum_maximum_nights', 'minimum_nights_avg_ntm', 'maximum_nights_avg_ntm', 'has_availability', 'availability_30', 'availability_60', 'availability_90', 'availability_365', 'calendar_last_scraped', 'number_of_reviews', 'number_of_reviews_ltm', 'number_of_reviews_l30d', 'first_review', 'last_review', 'review_scores_rating', 'review_scores_accuracy', 'review_scores_cleanliness', 'review_scores_checkin', 'review_scores_communication', 'review_scores_location', 'review_scores_value', 'instant_bookable', 'calculated_host_listings_count', 'calculated_host_listings_count_entire_homes', 'calculated_host_listings_count_private_rooms', 'calculated_host_listings_count_shared_rooms', 'reviews_per_month', 'distance']\n"
     ]
    }
   ],
   "source": [
    "# drop listing where country code is not Germany\n",
    "# we only have one\n",
    "# reshaped_listings_data = reshaped_listings_data[reshaped_listings_data['country_code']=='DE']\n",
    "print([x for x in reshaped_listings_data.columns])"
   ]
  },
  {
   "cell_type": "code",
   "execution_count": 470,
   "metadata": {},
   "outputs": [],
   "source": [
    "# let's define columns to drop\n",
    "columns_to_drop = ['listing_url', 'scrape_id', 'last_scraped', 'name','first_review','last_review',\n",
    "                   'description', 'picture_url', 'host_id', 'host_url','amenities',\n",
    "                   'host_name', 'host_since','host_location','host_thumbnail_url',\n",
    "                   'host_picture_url','host_verifications','host_has_profile_pic',\n",
    "                   'host_identity_verified','calendar_last_scraped']"
   ]
  },
  {
   "cell_type": "code",
   "execution_count": 471,
   "metadata": {},
   "outputs": [
    {
     "name": "stdout",
     "output_type": "stream",
     "text": [
      "(20429, 46)\n"
     ]
    },
    {
     "data": {
      "text/html": [
       "<div>\n",
       "<style scoped>\n",
       "    .dataframe tbody tr th:only-of-type {\n",
       "        vertical-align: middle;\n",
       "    }\n",
       "\n",
       "    .dataframe tbody tr th {\n",
       "        vertical-align: top;\n",
       "    }\n",
       "\n",
       "    .dataframe thead th {\n",
       "        text-align: right;\n",
       "    }\n",
       "</style>\n",
       "<table border=\"1\" class=\"dataframe\">\n",
       "  <thead>\n",
       "    <tr style=\"text-align: right;\">\n",
       "      <th></th>\n",
       "      <th>id</th>\n",
       "      <th>host_is_superhost</th>\n",
       "      <th>host_neighbourhood</th>\n",
       "      <th>host_listings_count</th>\n",
       "      <th>host_total_listings_count</th>\n",
       "      <th>neighbourhood_cleansed</th>\n",
       "      <th>neighbourhood_group_cleansed</th>\n",
       "      <th>latitude</th>\n",
       "      <th>longitude</th>\n",
       "      <th>property_type</th>\n",
       "      <th>...</th>\n",
       "      <th>review_scores_communication</th>\n",
       "      <th>review_scores_location</th>\n",
       "      <th>review_scores_value</th>\n",
       "      <th>instant_bookable</th>\n",
       "      <th>calculated_host_listings_count</th>\n",
       "      <th>calculated_host_listings_count_entire_homes</th>\n",
       "      <th>calculated_host_listings_count_private_rooms</th>\n",
       "      <th>calculated_host_listings_count_shared_rooms</th>\n",
       "      <th>reviews_per_month</th>\n",
       "      <th>distance</th>\n",
       "    </tr>\n",
       "  </thead>\n",
       "  <tbody>\n",
       "    <tr>\n",
       "      <th>0</th>\n",
       "      <td>1944</td>\n",
       "      <td>f</td>\n",
       "      <td>Wedding</td>\n",
       "      <td>0.0</td>\n",
       "      <td>0.0</td>\n",
       "      <td>Brunnenstr. Nord</td>\n",
       "      <td>Mitte</td>\n",
       "      <td>52.54425</td>\n",
       "      <td>13.39749</td>\n",
       "      <td>Private room in apartment</td>\n",
       "      <td>...</td>\n",
       "      <td>9.0</td>\n",
       "      <td>9.0</td>\n",
       "      <td>8.0</td>\n",
       "      <td>f</td>\n",
       "      <td>2</td>\n",
       "      <td>0</td>\n",
       "      <td>2</td>\n",
       "      <td>0</td>\n",
       "      <td>0.21</td>\n",
       "      <td>2.711</td>\n",
       "    </tr>\n",
       "    <tr>\n",
       "      <th>1</th>\n",
       "      <td>3176</td>\n",
       "      <td>f</td>\n",
       "      <td>Prenzlauer Berg</td>\n",
       "      <td>1.0</td>\n",
       "      <td>1.0</td>\n",
       "      <td>Prenzlauer Berg Südwest</td>\n",
       "      <td>Pankow</td>\n",
       "      <td>52.53500</td>\n",
       "      <td>13.41758</td>\n",
       "      <td>Entire apartment</td>\n",
       "      <td>...</td>\n",
       "      <td>9.0</td>\n",
       "      <td>10.0</td>\n",
       "      <td>9.0</td>\n",
       "      <td>f</td>\n",
       "      <td>1</td>\n",
       "      <td>1</td>\n",
       "      <td>0</td>\n",
       "      <td>0</td>\n",
       "      <td>1.07</td>\n",
       "      <td>1.475</td>\n",
       "    </tr>\n",
       "    <tr>\n",
       "      <th>2</th>\n",
       "      <td>3309</td>\n",
       "      <td>f</td>\n",
       "      <td>Schöneberg</td>\n",
       "      <td>1.0</td>\n",
       "      <td>1.0</td>\n",
       "      <td>Schöneberg-Nord</td>\n",
       "      <td>Tempelhof - Schöneberg</td>\n",
       "      <td>52.49885</td>\n",
       "      <td>13.34906</td>\n",
       "      <td>Private room in apartment</td>\n",
       "      <td>...</td>\n",
       "      <td>10.0</td>\n",
       "      <td>9.0</td>\n",
       "      <td>9.0</td>\n",
       "      <td>f</td>\n",
       "      <td>1</td>\n",
       "      <td>0</td>\n",
       "      <td>1</td>\n",
       "      <td>0</td>\n",
       "      <td>0.31</td>\n",
       "      <td>5.073</td>\n",
       "    </tr>\n",
       "    <tr>\n",
       "      <th>3</th>\n",
       "      <td>7071</td>\n",
       "      <td>t</td>\n",
       "      <td>Prenzlauer Berg</td>\n",
       "      <td>2.0</td>\n",
       "      <td>2.0</td>\n",
       "      <td>Helmholtzplatz</td>\n",
       "      <td>Pankow</td>\n",
       "      <td>52.54316</td>\n",
       "      <td>13.41509</td>\n",
       "      <td>Private room in apartment</td>\n",
       "      <td>...</td>\n",
       "      <td>10.0</td>\n",
       "      <td>10.0</td>\n",
       "      <td>9.0</td>\n",
       "      <td>t</td>\n",
       "      <td>1</td>\n",
       "      <td>0</td>\n",
       "      <td>1</td>\n",
       "      <td>0</td>\n",
       "      <td>2.18</td>\n",
       "      <td>2.361</td>\n",
       "    </tr>\n",
       "    <tr>\n",
       "      <th>4</th>\n",
       "      <td>9991</td>\n",
       "      <td>f</td>\n",
       "      <td>Prenzlauer Berg</td>\n",
       "      <td>1.0</td>\n",
       "      <td>1.0</td>\n",
       "      <td>Prenzlauer Berg Südwest</td>\n",
       "      <td>Pankow</td>\n",
       "      <td>52.53303</td>\n",
       "      <td>13.41605</td>\n",
       "      <td>Entire apartment</td>\n",
       "      <td>...</td>\n",
       "      <td>10.0</td>\n",
       "      <td>10.0</td>\n",
       "      <td>10.0</td>\n",
       "      <td>f</td>\n",
       "      <td>1</td>\n",
       "      <td>1</td>\n",
       "      <td>0</td>\n",
       "      <td>0</td>\n",
       "      <td>0.13</td>\n",
       "      <td>1.242</td>\n",
       "    </tr>\n",
       "  </tbody>\n",
       "</table>\n",
       "<p>5 rows × 46 columns</p>\n",
       "</div>"
      ],
      "text/plain": [
       "     id host_is_superhost host_neighbourhood  host_listings_count  \\\n",
       "0  1944                 f            Wedding                  0.0   \n",
       "1  3176                 f    Prenzlauer Berg                  1.0   \n",
       "2  3309                 f         Schöneberg                  1.0   \n",
       "3  7071                 t    Prenzlauer Berg                  2.0   \n",
       "4  9991                 f    Prenzlauer Berg                  1.0   \n",
       "\n",
       "   host_total_listings_count   neighbourhood_cleansed  \\\n",
       "0                        0.0         Brunnenstr. Nord   \n",
       "1                        1.0  Prenzlauer Berg Südwest   \n",
       "2                        1.0          Schöneberg-Nord   \n",
       "3                        2.0           Helmholtzplatz   \n",
       "4                        1.0  Prenzlauer Berg Südwest   \n",
       "\n",
       "  neighbourhood_group_cleansed  latitude  longitude  \\\n",
       "0                        Mitte  52.54425   13.39749   \n",
       "1                       Pankow  52.53500   13.41758   \n",
       "2       Tempelhof - Schöneberg  52.49885   13.34906   \n",
       "3                       Pankow  52.54316   13.41509   \n",
       "4                       Pankow  52.53303   13.41605   \n",
       "\n",
       "               property_type  ... review_scores_communication  \\\n",
       "0  Private room in apartment  ...                         9.0   \n",
       "1           Entire apartment  ...                         9.0   \n",
       "2  Private room in apartment  ...                        10.0   \n",
       "3  Private room in apartment  ...                        10.0   \n",
       "4           Entire apartment  ...                        10.0   \n",
       "\n",
       "   review_scores_location review_scores_value  instant_bookable  \\\n",
       "0                     9.0                 8.0                 f   \n",
       "1                    10.0                 9.0                 f   \n",
       "2                     9.0                 9.0                 f   \n",
       "3                    10.0                 9.0                 t   \n",
       "4                    10.0                10.0                 f   \n",
       "\n",
       "   calculated_host_listings_count  \\\n",
       "0                               2   \n",
       "1                               1   \n",
       "2                               1   \n",
       "3                               1   \n",
       "4                               1   \n",
       "\n",
       "   calculated_host_listings_count_entire_homes  \\\n",
       "0                                            0   \n",
       "1                                            1   \n",
       "2                                            0   \n",
       "3                                            0   \n",
       "4                                            1   \n",
       "\n",
       "   calculated_host_listings_count_private_rooms  \\\n",
       "0                                             2   \n",
       "1                                             0   \n",
       "2                                             1   \n",
       "3                                             1   \n",
       "4                                             0   \n",
       "\n",
       "   calculated_host_listings_count_shared_rooms  reviews_per_month  distance  \n",
       "0                                            0               0.21     2.711  \n",
       "1                                            0               1.07     1.475  \n",
       "2                                            0               0.31     5.073  \n",
       "3                                            0               2.18     2.361  \n",
       "4                                            0               0.13     1.242  \n",
       "\n",
       "[5 rows x 46 columns]"
      ]
     },
     "execution_count": 471,
     "metadata": {},
     "output_type": "execute_result"
    }
   ],
   "source": [
    "# drop the selected columns\n",
    "reshaped_listings_data_clean = reshaped_listings_data.drop(columns_to_drop,axis=1)\n",
    "\n",
    "\n",
    "# let's drop listings without prices\n",
    "reshaped_listings_data_clean = reshaped_listings_data_clean[reshaped_listings_data_clean['price']>0]\n",
    "\n",
    "reshaped_listings_data_clean = reshaped_listings_data_clean.copy()\n",
    "print(reshaped_listings_data_clean.shape)\n",
    "reshaped_listings_data_clean.head()"
   ]
  },
  {
   "cell_type": "markdown",
   "metadata": {},
   "source": [
    "We now have 46 columns to work with"
   ]
  },
  {
   "cell_type": "code",
   "execution_count": 472,
   "metadata": {},
   "outputs": [],
   "source": [
    "# # clean up zip code column\n",
    "# reshaped_listings_data['zipcode'] = np.where(reshaped_listings_data['zipcode']=='10969\\n10969','10969',reshaped_listings_data['zipcode'])\n",
    "# reshaped_listings_data['zipcode'] = np.where(reshaped_listings_data['zipcode']=='10777 Berlin','10777',reshaped_listings_data['zipcode'])\n",
    "# reshaped_listings_data['zipcode'] = np.where(reshaped_listings_data['zipcode']=='10997 Kreuzberg','10997',reshaped_listings_data['zipcode'])\n",
    "# reshaped_listings_data['zipcode'] = np.where(reshaped_listings_data['zipcode']=='10119 Berlin','10119',reshaped_listings_data['zipcode'])\n",
    "# reshaped_listings_data['zipcode'] = np.where(reshaped_listings_data['zipcode']=='13359 Berlin','13359',reshaped_listings_data['zipcode'])\n",
    "# reshaped_listings_data['zipcode'] = reshaped_listings_data['zipcode'].fillna(0).astype(int)\n",
    "# # reshaped_listings_data['zipcode'] = np.where(reshaped_listings_data['zipcode']=='10997 Kreuzberg','10997',reshaped_listings_data['zipcode'])\n"
   ]
  },
  {
   "cell_type": "code",
   "execution_count": 473,
   "metadata": {},
   "outputs": [
    {
     "name": "stdout",
     "output_type": "stream",
     "text": [
      "<class 'pandas.core.frame.DataFrame'>\n",
      "Int64Index: 20429 entries, 0 to 20431\n",
      "Data columns (total 46 columns):\n",
      " #   Column                                        Non-Null Count  Dtype  \n",
      "---  ------                                        --------------  -----  \n",
      " 0   id                                            20429 non-null  int64  \n",
      " 1   host_is_superhost                             20417 non-null  object \n",
      " 2   host_neighbourhood                            14899 non-null  object \n",
      " 3   host_listings_count                           20417 non-null  float64\n",
      " 4   host_total_listings_count                     20417 non-null  float64\n",
      " 5   neighbourhood_cleansed                        20429 non-null  object \n",
      " 6   neighbourhood_group_cleansed                  20429 non-null  object \n",
      " 7   latitude                                      20429 non-null  float64\n",
      " 8   longitude                                     20429 non-null  float64\n",
      " 9   property_type                                 20429 non-null  object \n",
      " 10  room_type                                     20429 non-null  object \n",
      " 11  accommodates                                  20429 non-null  int64  \n",
      " 12  bathrooms_text                                20409 non-null  object \n",
      " 13  bedrooms                                      18742 non-null  float64\n",
      " 14  beds                                          20196 non-null  float64\n",
      " 15  price                                         20429 non-null  int64  \n",
      " 16  minimum_nights                                20429 non-null  int64  \n",
      " 17  maximum_nights                                20429 non-null  int64  \n",
      " 18  minimum_minimum_nights                        20429 non-null  float64\n",
      " 19  maximum_minimum_nights                        20429 non-null  float64\n",
      " 20  minimum_maximum_nights                        20429 non-null  float64\n",
      " 21  maximum_maximum_nights                        20429 non-null  float64\n",
      " 22  minimum_nights_avg_ntm                        20429 non-null  float64\n",
      " 23  maximum_nights_avg_ntm                        20429 non-null  float64\n",
      " 24  has_availability                              20429 non-null  object \n",
      " 25  availability_30                               20429 non-null  int64  \n",
      " 26  availability_60                               20429 non-null  int64  \n",
      " 27  availability_90                               20429 non-null  int64  \n",
      " 28  availability_365                              20429 non-null  int64  \n",
      " 29  number_of_reviews                             20429 non-null  int64  \n",
      " 30  number_of_reviews_ltm                         20429 non-null  int64  \n",
      " 31  number_of_reviews_l30d                        20429 non-null  int64  \n",
      " 32  review_scores_rating                          16153 non-null  float64\n",
      " 33  review_scores_accuracy                        16133 non-null  float64\n",
      " 34  review_scores_cleanliness                     16134 non-null  float64\n",
      " 35  review_scores_checkin                         16120 non-null  float64\n",
      " 36  review_scores_communication                   16131 non-null  float64\n",
      " 37  review_scores_location                        16122 non-null  float64\n",
      " 38  review_scores_value                           16119 non-null  float64\n",
      " 39  instant_bookable                              20429 non-null  object \n",
      " 40  calculated_host_listings_count                20429 non-null  int64  \n",
      " 41  calculated_host_listings_count_entire_homes   20429 non-null  int64  \n",
      " 42  calculated_host_listings_count_private_rooms  20429 non-null  int64  \n",
      " 43  calculated_host_listings_count_shared_rooms   20429 non-null  int64  \n",
      " 44  reviews_per_month                             16574 non-null  float64\n",
      " 45  distance                                      20429 non-null  float64\n",
      "dtypes: float64(21), int64(16), object(9)\n",
      "memory usage: 7.3+ MB\n"
     ]
    }
   ],
   "source": [
    "# check our data values\n",
    "reshaped_listings_data_clean.info()"
   ]
  },
  {
   "cell_type": "markdown",
   "metadata": {},
   "source": [
    "## Impute Missing Values"
   ]
  },
  {
   "cell_type": "code",
   "execution_count": 474,
   "metadata": {},
   "outputs": [
    {
     "data": {
      "text/html": [
       "<div>\n",
       "<style scoped>\n",
       "    .dataframe tbody tr th:only-of-type {\n",
       "        vertical-align: middle;\n",
       "    }\n",
       "\n",
       "    .dataframe tbody tr th {\n",
       "        vertical-align: top;\n",
       "    }\n",
       "\n",
       "    .dataframe thead th {\n",
       "        text-align: right;\n",
       "    }\n",
       "</style>\n",
       "<table border=\"1\" class=\"dataframe\">\n",
       "  <thead>\n",
       "    <tr style=\"text-align: right;\">\n",
       "      <th></th>\n",
       "      <th>column_name</th>\n",
       "      <th>total_missing_vals</th>\n",
       "      <th>% missing values</th>\n",
       "    </tr>\n",
       "  </thead>\n",
       "  <tbody>\n",
       "    <tr>\n",
       "      <th>30</th>\n",
       "      <td>review_scores_value</td>\n",
       "      <td>4310</td>\n",
       "      <td>21.10</td>\n",
       "    </tr>\n",
       "    <tr>\n",
       "      <th>27</th>\n",
       "      <td>review_scores_checkin</td>\n",
       "      <td>4309</td>\n",
       "      <td>21.09</td>\n",
       "    </tr>\n",
       "    <tr>\n",
       "      <th>29</th>\n",
       "      <td>review_scores_location</td>\n",
       "      <td>4307</td>\n",
       "      <td>21.08</td>\n",
       "    </tr>\n",
       "    <tr>\n",
       "      <th>28</th>\n",
       "      <td>review_scores_communication</td>\n",
       "      <td>4298</td>\n",
       "      <td>21.04</td>\n",
       "    </tr>\n",
       "    <tr>\n",
       "      <th>25</th>\n",
       "      <td>review_scores_accuracy</td>\n",
       "      <td>4296</td>\n",
       "      <td>21.03</td>\n",
       "    </tr>\n",
       "    <tr>\n",
       "      <th>26</th>\n",
       "      <td>review_scores_cleanliness</td>\n",
       "      <td>4295</td>\n",
       "      <td>21.02</td>\n",
       "    </tr>\n",
       "    <tr>\n",
       "      <th>24</th>\n",
       "      <td>review_scores_rating</td>\n",
       "      <td>4276</td>\n",
       "      <td>20.93</td>\n",
       "    </tr>\n",
       "    <tr>\n",
       "      <th>35</th>\n",
       "      <td>reviews_per_month</td>\n",
       "      <td>3855</td>\n",
       "      <td>18.87</td>\n",
       "    </tr>\n",
       "    <tr>\n",
       "      <th>6</th>\n",
       "      <td>bedrooms</td>\n",
       "      <td>1687</td>\n",
       "      <td>8.26</td>\n",
       "    </tr>\n",
       "    <tr>\n",
       "      <th>7</th>\n",
       "      <td>beds</td>\n",
       "      <td>233</td>\n",
       "      <td>1.14</td>\n",
       "    </tr>\n",
       "  </tbody>\n",
       "</table>\n",
       "</div>"
      ],
      "text/plain": [
       "                    column_name  total_missing_vals  % missing values\n",
       "30          review_scores_value                4310             21.10\n",
       "27        review_scores_checkin                4309             21.09\n",
       "29       review_scores_location                4307             21.08\n",
       "28  review_scores_communication                4298             21.04\n",
       "25       review_scores_accuracy                4296             21.03\n",
       "26    review_scores_cleanliness                4295             21.02\n",
       "24         review_scores_rating                4276             20.93\n",
       "35            reviews_per_month                3855             18.87\n",
       "6                      bedrooms                1687              8.26\n",
       "7                          beds                 233              1.14"
      ]
     },
     "execution_count": 474,
     "metadata": {},
     "output_type": "execute_result"
    }
   ],
   "source": [
    "# create list of columns with integer & float values\n",
    "int_or_float_cols = [x for x in reshaped_listings_data_clean.columns \n",
    "                     if reshaped_listings_data_clean[x].dtype==int or\n",
    "                    reshaped_listings_data_clean[x].dtype==float]\n",
    "\n",
    "# check percentage of missing values\n",
    "int_or_float_data_df = reshaped_listings_data_clean[int_or_float_cols]\n",
    "\n",
    "total_vals_missing = int_or_float_data_df.isnull().sum()\n",
    "listings_int_values_df = pd.DataFrame({'column_name':int_or_float_data_df.columns,\n",
    "                           'total_missing_vals':total_vals_missing})\n",
    "listings_int_values_df = listings_int_values_df.reset_index(drop=True).sort_values('total_missing_vals',ascending=False)\n",
    "listings_int_values_df['% missing values'] = round(listings_int_values_df['total_missing_vals']/len(reshaped_listings_data_clean)*100,2)\n",
    "listings_int_values_df.head(10)"
   ]
  },
  {
   "cell_type": "code",
   "execution_count": 475,
   "metadata": {},
   "outputs": [],
   "source": [
    "# Impute missing values \n",
    "# a) integer/float columns\n",
    "for col in int_or_float_cols:\n",
    "    median_val = round(np.median(reshaped_listings_data_clean[reshaped_listings_data_clean[col].isna()==False][col]),0)\n",
    "    reshaped_listings_data_clean[col] = reshaped_listings_data_clean[col].fillna(median_val)\n",
    "\n",
    "# b) categorical columns\n",
    "categorical_cols_list = [x for x in reshaped_listings_data_clean.columns if reshaped_listings_data_clean[x].dtype==object]\n",
    "for col in categorical_cols_list:\n",
    "    reshaped_listings_data_clean[col] = reshaped_listings_data_clean[col].fillna(\"unknown\")"
   ]
  },
  {
   "cell_type": "code",
   "execution_count": 476,
   "metadata": {},
   "outputs": [
    {
     "data": {
      "text/html": [
       "<div>\n",
       "<style scoped>\n",
       "    .dataframe tbody tr th:only-of-type {\n",
       "        vertical-align: middle;\n",
       "    }\n",
       "\n",
       "    .dataframe tbody tr th {\n",
       "        vertical-align: top;\n",
       "    }\n",
       "\n",
       "    .dataframe thead th {\n",
       "        text-align: right;\n",
       "    }\n",
       "</style>\n",
       "<table border=\"1\" class=\"dataframe\">\n",
       "  <thead>\n",
       "    <tr style=\"text-align: right;\">\n",
       "      <th></th>\n",
       "      <th>index</th>\n",
       "      <th>total</th>\n",
       "    </tr>\n",
       "  </thead>\n",
       "  <tbody>\n",
       "  </tbody>\n",
       "</table>\n",
       "</div>"
      ],
      "text/plain": [
       "Empty DataFrame\n",
       "Columns: [index, total]\n",
       "Index: []"
      ]
     },
     "execution_count": 476,
     "metadata": {},
     "output_type": "execute_result"
    }
   ],
   "source": [
    "# check if there are any columns missed\n",
    "missing_vals_df = reshaped_listings_data_clean.isnull().sum().rename('total').reset_index().sort_values('total',ascending=False)\n",
    "missing_vals_df[missing_vals_df['total']>0]"
   ]
  },
  {
   "cell_type": "markdown",
   "metadata": {},
   "source": [
    "## Encode Categorical Data"
   ]
  },
  {
   "cell_type": "code",
   "execution_count": 477,
   "metadata": {},
   "outputs": [
    {
     "name": "stdout",
     "output_type": "stream",
     "text": [
      "host_is_superhost : 3\n",
      "host_neighbourhood : 173\n",
      "neighbourhood_cleansed : 137\n",
      "neighbourhood_group_cleansed : 12\n",
      "property_type : 66\n",
      "room_type : 4\n",
      "bathrooms_text : 28\n",
      "has_availability : 2\n",
      "instant_bookable : 2\n"
     ]
    }
   ],
   "source": [
    "# Let'ts look at the new potential dimension\n",
    "categorical_cols = [x for x in reshaped_listings_data_clean.columns if reshaped_listings_data_clean[x].dtype==object]\n",
    "\n",
    "# check unique values for each category\n",
    "for x in categorical_cols:\n",
    "    print(x,\":\",reshaped_listings_data_clean[x].nunique())"
   ]
  },
  {
   "cell_type": "code",
   "execution_count": 478,
   "metadata": {},
   "outputs": [],
   "source": [
    "# create a list of categorical columns to encode\n",
    "columns_to_encode = [x for x in reshaped_listings_data_clean.columns if reshaped_listings_data_clean[x].dtype==object and x !='id']\n",
    "\n",
    "# use one-hot-encoding\n",
    "encoded_listings_data = pd.get_dummies(reshaped_listings_data_clean,\n",
    "                                       columns=columns_to_encode,\n",
    "                                      drop_first=True)\n"
   ]
  },
  {
   "cell_type": "code",
   "execution_count": 479,
   "metadata": {},
   "outputs": [
    {
     "data": {
      "text/plain": [
       "(20429, 455)"
      ]
     },
     "execution_count": 479,
     "metadata": {},
     "output_type": "execute_result"
    }
   ],
   "source": [
    "# check shape of new dataset\n",
    "encoded_listings_data.shape"
   ]
  },
  {
   "cell_type": "code",
   "execution_count": 480,
   "metadata": {},
   "outputs": [
    {
     "data": {
      "text/html": [
       "<div>\n",
       "<style scoped>\n",
       "    .dataframe tbody tr th:only-of-type {\n",
       "        vertical-align: middle;\n",
       "    }\n",
       "\n",
       "    .dataframe tbody tr th {\n",
       "        vertical-align: top;\n",
       "    }\n",
       "\n",
       "    .dataframe thead th {\n",
       "        text-align: right;\n",
       "    }\n",
       "</style>\n",
       "<table border=\"1\" class=\"dataframe\">\n",
       "  <thead>\n",
       "    <tr style=\"text-align: right;\">\n",
       "      <th></th>\n",
       "      <th>id</th>\n",
       "      <th>host_listings_count</th>\n",
       "      <th>host_total_listings_count</th>\n",
       "      <th>latitude</th>\n",
       "      <th>longitude</th>\n",
       "      <th>accommodates</th>\n",
       "      <th>bedrooms</th>\n",
       "      <th>beds</th>\n",
       "      <th>price</th>\n",
       "      <th>minimum_nights</th>\n",
       "      <th>...</th>\n",
       "      <th>bathrooms_text_7 baths</th>\n",
       "      <th>bathrooms_text_7.5 baths</th>\n",
       "      <th>bathrooms_text_8 baths</th>\n",
       "      <th>bathrooms_text_8.5 shared baths</th>\n",
       "      <th>bathrooms_text_Half-bath</th>\n",
       "      <th>bathrooms_text_Private half-bath</th>\n",
       "      <th>bathrooms_text_Shared half-bath</th>\n",
       "      <th>bathrooms_text_unknown</th>\n",
       "      <th>has_availability_t</th>\n",
       "      <th>instant_bookable_t</th>\n",
       "    </tr>\n",
       "  </thead>\n",
       "  <tbody>\n",
       "    <tr>\n",
       "      <th>0</th>\n",
       "      <td>1944</td>\n",
       "      <td>0.0</td>\n",
       "      <td>0.0</td>\n",
       "      <td>52.54425</td>\n",
       "      <td>13.39749</td>\n",
       "      <td>1</td>\n",
       "      <td>1.0</td>\n",
       "      <td>1.0</td>\n",
       "      <td>20</td>\n",
       "      <td>60</td>\n",
       "      <td>...</td>\n",
       "      <td>0</td>\n",
       "      <td>0</td>\n",
       "      <td>0</td>\n",
       "      <td>0</td>\n",
       "      <td>0</td>\n",
       "      <td>0</td>\n",
       "      <td>0</td>\n",
       "      <td>0</td>\n",
       "      <td>1</td>\n",
       "      <td>0</td>\n",
       "    </tr>\n",
       "    <tr>\n",
       "      <th>1</th>\n",
       "      <td>3176</td>\n",
       "      <td>1.0</td>\n",
       "      <td>1.0</td>\n",
       "      <td>52.53500</td>\n",
       "      <td>13.41758</td>\n",
       "      <td>4</td>\n",
       "      <td>1.0</td>\n",
       "      <td>2.0</td>\n",
       "      <td>90</td>\n",
       "      <td>62</td>\n",
       "      <td>...</td>\n",
       "      <td>0</td>\n",
       "      <td>0</td>\n",
       "      <td>0</td>\n",
       "      <td>0</td>\n",
       "      <td>0</td>\n",
       "      <td>0</td>\n",
       "      <td>0</td>\n",
       "      <td>0</td>\n",
       "      <td>1</td>\n",
       "      <td>0</td>\n",
       "    </tr>\n",
       "    <tr>\n",
       "      <th>2</th>\n",
       "      <td>3309</td>\n",
       "      <td>1.0</td>\n",
       "      <td>1.0</td>\n",
       "      <td>52.49885</td>\n",
       "      <td>13.34906</td>\n",
       "      <td>1</td>\n",
       "      <td>1.0</td>\n",
       "      <td>1.0</td>\n",
       "      <td>29</td>\n",
       "      <td>7</td>\n",
       "      <td>...</td>\n",
       "      <td>0</td>\n",
       "      <td>0</td>\n",
       "      <td>0</td>\n",
       "      <td>0</td>\n",
       "      <td>0</td>\n",
       "      <td>0</td>\n",
       "      <td>0</td>\n",
       "      <td>0</td>\n",
       "      <td>1</td>\n",
       "      <td>0</td>\n",
       "    </tr>\n",
       "    <tr>\n",
       "      <th>3</th>\n",
       "      <td>7071</td>\n",
       "      <td>2.0</td>\n",
       "      <td>2.0</td>\n",
       "      <td>52.54316</td>\n",
       "      <td>13.41509</td>\n",
       "      <td>2</td>\n",
       "      <td>1.0</td>\n",
       "      <td>2.0</td>\n",
       "      <td>45</td>\n",
       "      <td>1</td>\n",
       "      <td>...</td>\n",
       "      <td>0</td>\n",
       "      <td>0</td>\n",
       "      <td>0</td>\n",
       "      <td>0</td>\n",
       "      <td>0</td>\n",
       "      <td>0</td>\n",
       "      <td>0</td>\n",
       "      <td>0</td>\n",
       "      <td>1</td>\n",
       "      <td>1</td>\n",
       "    </tr>\n",
       "    <tr>\n",
       "      <th>4</th>\n",
       "      <td>9991</td>\n",
       "      <td>1.0</td>\n",
       "      <td>1.0</td>\n",
       "      <td>52.53303</td>\n",
       "      <td>13.41605</td>\n",
       "      <td>7</td>\n",
       "      <td>4.0</td>\n",
       "      <td>7.0</td>\n",
       "      <td>180</td>\n",
       "      <td>6</td>\n",
       "      <td>...</td>\n",
       "      <td>0</td>\n",
       "      <td>0</td>\n",
       "      <td>0</td>\n",
       "      <td>0</td>\n",
       "      <td>0</td>\n",
       "      <td>0</td>\n",
       "      <td>0</td>\n",
       "      <td>0</td>\n",
       "      <td>1</td>\n",
       "      <td>0</td>\n",
       "    </tr>\n",
       "  </tbody>\n",
       "</table>\n",
       "<p>5 rows × 455 columns</p>\n",
       "</div>"
      ],
      "text/plain": [
       "     id  host_listings_count  host_total_listings_count  latitude  longitude  \\\n",
       "0  1944                  0.0                        0.0  52.54425   13.39749   \n",
       "1  3176                  1.0                        1.0  52.53500   13.41758   \n",
       "2  3309                  1.0                        1.0  52.49885   13.34906   \n",
       "3  7071                  2.0                        2.0  52.54316   13.41509   \n",
       "4  9991                  1.0                        1.0  52.53303   13.41605   \n",
       "\n",
       "   accommodates  bedrooms  beds  price  minimum_nights  ...  \\\n",
       "0             1       1.0   1.0     20              60  ...   \n",
       "1             4       1.0   2.0     90              62  ...   \n",
       "2             1       1.0   1.0     29               7  ...   \n",
       "3             2       1.0   2.0     45               1  ...   \n",
       "4             7       4.0   7.0    180               6  ...   \n",
       "\n",
       "   bathrooms_text_7 baths  bathrooms_text_7.5 baths  bathrooms_text_8 baths  \\\n",
       "0                       0                         0                       0   \n",
       "1                       0                         0                       0   \n",
       "2                       0                         0                       0   \n",
       "3                       0                         0                       0   \n",
       "4                       0                         0                       0   \n",
       "\n",
       "   bathrooms_text_8.5 shared baths  bathrooms_text_Half-bath  \\\n",
       "0                                0                         0   \n",
       "1                                0                         0   \n",
       "2                                0                         0   \n",
       "3                                0                         0   \n",
       "4                                0                         0   \n",
       "\n",
       "   bathrooms_text_Private half-bath  bathrooms_text_Shared half-bath  \\\n",
       "0                                 0                                0   \n",
       "1                                 0                                0   \n",
       "2                                 0                                0   \n",
       "3                                 0                                0   \n",
       "4                                 0                                0   \n",
       "\n",
       "   bathrooms_text_unknown  has_availability_t  instant_bookable_t  \n",
       "0                       0                   1                   0  \n",
       "1                       0                   1                   0  \n",
       "2                       0                   1                   0  \n",
       "3                       0                   1                   1  \n",
       "4                       0                   1                   0  \n",
       "\n",
       "[5 rows x 455 columns]"
      ]
     },
     "execution_count": 480,
     "metadata": {},
     "output_type": "execute_result"
    }
   ],
   "source": [
    "# overview of the data we encoded\n",
    "encoded_listings_data.head()"
   ]
  },
  {
   "cell_type": "code",
   "execution_count": 483,
   "metadata": {},
   "outputs": [
    {
     "data": {
      "image/png": "[encoded data removed]",
      "text/plain": [
       "<Figure size 432x288 with 1 Axes>"
      ]
     },
     "metadata": {
      "needs_background": "light"
     },
     "output_type": "display_data"
    }
   ],
   "source": [
    "x_sum = encoded_listings_data.groupby('price')['id'].count().rename('total').reset_index()\n",
    "\n",
    "sns.scatterplot(y='price',x='total',data=x_sum)\n",
    "plt.show()"
   ]
  },
  {
   "cell_type": "markdown",
   "metadata": {},
   "source": [
    "## 2.1 Feature Importance"
   ]
  },
  {
   "cell_type": "markdown",
   "metadata": {},
   "source": [
    "First we find the most important features for our model"
   ]
  },
  {
   "cell_type": "code",
   "execution_count": 484,
   "metadata": {},
   "outputs": [
    {
     "data": {
      "text/html": [
       "<div>\n",
       "<style scoped>\n",
       "    .dataframe tbody tr th:only-of-type {\n",
       "        vertical-align: middle;\n",
       "    }\n",
       "\n",
       "    .dataframe tbody tr th {\n",
       "        vertical-align: top;\n",
       "    }\n",
       "\n",
       "    .dataframe thead th {\n",
       "        text-align: right;\n",
       "    }\n",
       "</style>\n",
       "<table border=\"1\" class=\"dataframe\">\n",
       "  <thead>\n",
       "    <tr style=\"text-align: right;\">\n",
       "      <th></th>\n",
       "      <th>feature</th>\n",
       "      <th>score</th>\n",
       "    </tr>\n",
       "  </thead>\n",
       "  <tbody>\n",
       "    <tr>\n",
       "      <th>18</th>\n",
       "      <td>availability_365</td>\n",
       "      <td>0.126370</td>\n",
       "    </tr>\n",
       "    <tr>\n",
       "      <th>4</th>\n",
       "      <td>accommodates</td>\n",
       "      <td>0.120329</td>\n",
       "    </tr>\n",
       "    <tr>\n",
       "      <th>5</th>\n",
       "      <td>bedrooms</td>\n",
       "      <td>0.064111</td>\n",
       "    </tr>\n",
       "    <tr>\n",
       "      <th>34</th>\n",
       "      <td>distance</td>\n",
       "      <td>0.053267</td>\n",
       "    </tr>\n",
       "    <tr>\n",
       "      <th>329</th>\n",
       "      <td>neighbourhood_cleansed_Volkspark Wilmersdorf</td>\n",
       "      <td>0.047180</td>\n",
       "    </tr>\n",
       "    <tr>\n",
       "      <th>235</th>\n",
       "      <td>neighbourhood_cleansed_Düsseldorfer Straße</td>\n",
       "      <td>0.041190</td>\n",
       "    </tr>\n",
       "    <tr>\n",
       "      <th>24</th>\n",
       "      <td>review_scores_cleanliness</td>\n",
       "      <td>0.034510</td>\n",
       "    </tr>\n",
       "    <tr>\n",
       "      <th>436</th>\n",
       "      <td>bathrooms_text_3.5 baths</td>\n",
       "      <td>0.028916</td>\n",
       "    </tr>\n",
       "    <tr>\n",
       "      <th>3</th>\n",
       "      <td>longitude</td>\n",
       "      <td>0.026213</td>\n",
       "    </tr>\n",
       "    <tr>\n",
       "      <th>33</th>\n",
       "      <td>reviews_per_month</td>\n",
       "      <td>0.024565</td>\n",
       "    </tr>\n",
       "    <tr>\n",
       "      <th>2</th>\n",
       "      <td>latitude</td>\n",
       "      <td>0.021202</td>\n",
       "    </tr>\n",
       "    <tr>\n",
       "      <th>28</th>\n",
       "      <td>review_scores_value</td>\n",
       "      <td>0.020873</td>\n",
       "    </tr>\n",
       "    <tr>\n",
       "      <th>377</th>\n",
       "      <td>property_type_Private room in apartment</td>\n",
       "      <td>0.019001</td>\n",
       "    </tr>\n",
       "    <tr>\n",
       "      <th>15</th>\n",
       "      <td>availability_30</td>\n",
       "      <td>0.016908</td>\n",
       "    </tr>\n",
       "    <tr>\n",
       "      <th>17</th>\n",
       "      <td>availability_90</td>\n",
       "      <td>0.016700</td>\n",
       "    </tr>\n",
       "  </tbody>\n",
       "</table>\n",
       "</div>"
      ],
      "text/plain": [
       "                                          feature     score\n",
       "18                               availability_365  0.126370\n",
       "4                                    accommodates  0.120329\n",
       "5                                        bedrooms  0.064111\n",
       "34                                       distance  0.053267\n",
       "329  neighbourhood_cleansed_Volkspark Wilmersdorf  0.047180\n",
       "235    neighbourhood_cleansed_Düsseldorfer Straße  0.041190\n",
       "24                      review_scores_cleanliness  0.034510\n",
       "436                      bathrooms_text_3.5 baths  0.028916\n",
       "3                                       longitude  0.026213\n",
       "33                              reviews_per_month  0.024565\n",
       "2                                        latitude  0.021202\n",
       "28                            review_scores_value  0.020873\n",
       "377       property_type_Private room in apartment  0.019001\n",
       "15                                availability_30  0.016908\n",
       "17                                availability_90  0.016700"
      ]
     },
     "execution_count": 484,
     "metadata": {},
     "output_type": "execute_result"
    }
   ],
   "source": [
    "# Create first model using random forest regressor\n",
    "\n",
    "# prepare data for model\n",
    "X = encoded_listings_data.drop(['id','price'],axis=1)\n",
    "y = encoded_listings_data['price']\n",
    "\n",
    "# split data\n",
    "X_train,X_test,y_train,y_test = train_test_split(X,y,test_size=0.3,random_state=42)\n",
    "\n",
    "# fit the model\n",
    "model = RandomForestRegressor(n_estimators=1000,n_jobs=-1)\n",
    "model.fit(X_train,y_train)\n",
    "\n",
    "# get feature importance\n",
    "feat_importances = model.feature_importances_\n",
    "col_list = [x for x in X_train.columns]\n",
    "feat_list = {}\n",
    "for i,v in enumerate(feat_importances):\n",
    "    feat_list[col_list[i]]=v\n",
    "\n",
    "# create feature importance dataframe\n",
    "feature_importances_df = pd.DataFrame(feat_list.items(),columns=['feature','score'])\n",
    "feature_importances_df = feature_importances_df.sort_values('score',ascending=False)\n",
    "\n",
    "# create a list of top 50 features\n",
    "# top_50_features_list = [x for x in feature_importances_df[:50]['feature']]\n",
    "# top_50_features_list = [x for x in feature_importances_df['feature']]\n",
    "\n",
    "feature_importances_df.head(15)"
   ]
  },
  {
   "cell_type": "code",
   "execution_count": 497,
   "metadata": {},
   "outputs": [
    {
     "data": {
      "text/plain": [
       "['host_listings_count',\n",
       " 'host_total_listings_count',\n",
       " 'latitude',\n",
       " 'longitude',\n",
       " 'accommodates',\n",
       " 'bedrooms',\n",
       " 'beds',\n",
       " 'minimum_nights',\n",
       " 'maximum_nights',\n",
       " 'minimum_minimum_nights']"
      ]
     },
     "execution_count": 497,
     "metadata": {},
     "output_type": "execute_result"
    }
   ],
   "source": [
    "# list(feat_list)[0:10]"
   ]
  },
  {
   "cell_type": "markdown",
   "metadata": {},
   "source": [
    "## 3. Modeling"
   ]
  },
  {
   "cell_type": "code",
   "execution_count": 489,
   "metadata": {},
   "outputs": [
    {
     "data": {
      "text/plain": [
       "RandomForestRegressor(n_estimators=1000, n_jobs=-1)"
      ]
     },
     "execution_count": 489,
     "metadata": {},
     "output_type": "execute_result"
    }
   ],
   "source": [
    "# prepare data fro modeling\n",
    "top_50_features_list = [x for x in feature_importances_df[:50]['feature']]\n",
    "X = encoded_listings_data[top_50_features_list]\n",
    "y = encoded_listings_data['price']\n",
    "\n",
    "# split data into train and test\n",
    "X_train,X_test,y_train,y_test = train_test_split(X,y,test_size=0.2,random_state=42)\n",
    "\n",
    "# create a model\n",
    "rf_model = RandomForestRegressor(n_estimators=1000,n_jobs=-1)\n",
    "rf_model.fit(X_train,y_train)\n"
   ]
  },
  {
   "cell_type": "code",
   "execution_count": 536,
   "metadata": {
    "scrolled": true
   },
   "outputs": [
    {
     "name": "stdout",
     "output_type": "stream",
     "text": [
      "R^2: 0.05327\n",
      "mse 2.177e+04\n",
      "RMSE: 147.5\n",
      "MAE 25.54\n"
     ]
    }
   ],
   "source": [
    "# make predictions with the model\n",
    "y_pred = rf_model.predict(X_test)\n",
    "y_pred = np.round(y_pred,0)\n",
    "# get R^2 score\n",
    "model_score = rf_model.score(X_test,y_test)\n",
    "mse = mean_squared_error(y_test,y_pred)\n",
    "mae = mean_absolute_error(y_test,y_pred)\n",
    "print(\"R^2:\",\"{0:.4}\".format(model_score))\n",
    "print(\"mse\",\"{0:.4}\".format(mse))\n",
    "print(\"RMSE:\",\"{0:.4}\".format(mse**(1/2)))\n",
    "print(\"MAE\",\"{0:.4}\".format(mae))"
   ]
  },
  {
   "cell_type": "markdown",
   "metadata": {},
   "source": [
    "The model returned a good R^2 score of 0.93\n",
    "The root mean squared error is 52.5. A $52 difference between our predicted prices and the actual values is high and we need to minimize this error through more iterations"
   ]
  },
  {
   "cell_type": "code",
   "execution_count": 402,
   "metadata": {},
   "outputs": [],
   "source": [
    "# Try different features for model performance\n",
    "\n",
    "# create dictionary for results\n",
    "rmse_results = {}\n",
    "# try multiple features\n",
    "n = 20\n",
    "for i in range(1,400,n):\n",
    "    selected_features = [x for x in feature_importances_df[:i+n]['feature']]\n",
    "    X = encoded_listings_data[selected_features]\n",
    "    y = encoded_listings_data['price']\n",
    "\n",
    "    # split data into train and test\n",
    "    X_train,X_test,y_train,y_test = train_test_split(X,y,test_size=0.2,random_state=42)\n",
    "\n",
    "    # create a model\n",
    "    rf_model_1 = RandomForestRegressor()\n",
    "    rf_model_1.fit(X_train,y_train)\n",
    "\n",
    "    # make predictions with the model\n",
    "    y_pred = rf_model_1.predict(X_test)\n",
    "\n",
    "    # get R^2 score\n",
    "    model_score = rf_model_1.score(X_test,y_test)\n",
    "    mse = mean_squared_error(y_test,y_pred)\n",
    "    rmse = mse**(1/2)\n",
    "    \n",
    "    # add results to dictionary\n",
    "    rmse_results[i]= rmse\n"
   ]
  },
  {
   "cell_type": "code",
   "execution_count": 403,
   "metadata": {},
   "outputs": [
    {
     "name": "stdout",
     "output_type": "stream",
     "text": [
      "1 Features : RMSE 65.68290176849544\n",
      "21 Features : RMSE 64.46278703679951\n",
      "41 Features : RMSE 65.74805898867815\n",
      "61 Features : RMSE 67.97340731867006\n",
      "81 Features : RMSE 67.8881165306829\n",
      "101 Features : RMSE 64.44117485528098\n",
      "121 Features : RMSE 65.94724718561534\n",
      "141 Features : RMSE 68.71068044238447\n",
      "161 Features : RMSE 64.9106318878258\n",
      "181 Features : RMSE 67.24004869665869\n",
      "201 Features : RMSE 69.74734919905246\n",
      "221 Features : RMSE 70.42789077843122\n",
      "241 Features : RMSE 66.44454362152693\n",
      "261 Features : RMSE 69.7704056022798\n",
      "281 Features : RMSE 69.0852272658478\n",
      "301 Features : RMSE 61.66289521956717\n",
      "321 Features : RMSE 65.37759346231923\n",
      "341 Features : RMSE 66.02628441307438\n",
      "361 Features : RMSE 65.05791208686092\n",
      "381 Features : RMSE 66.72002137523795\n"
     ]
    }
   ],
   "source": [
    "for key,val in enumerate(rmse_results):\n",
    "    print(val,\"Features : RMSE\",rmse_results[val])"
   ]
  },
  {
   "cell_type": "code",
   "execution_count": 376,
   "metadata": {},
   "outputs": [
    {
     "data": {
      "text/plain": [
       "{1: 70.26914653013972,\n",
       " 6: 65.40238945659175,\n",
       " 11: 67.96265672111612,\n",
       " 16: 67.38515116885817,\n",
       " 21: 70.06769894954726,\n",
       " 26: 72.16515344594126,\n",
       " 31: 67.74913336695026,\n",
       " 36: 64.60475714970732,\n",
       " 41: 70.43735155780008,\n",
       " 46: 66.59306565956435}"
      ]
     },
     "execution_count": 376,
     "metadata": {},
     "output_type": "execute_result"
    }
   ],
   "source": [
    "rmse_results"
   ]
  },
  {
   "cell_type": "code",
   "execution_count": 534,
   "metadata": {},
   "outputs": [
    {
     "data": {
      "text/html": [
       "<div>\n",
       "<style scoped>\n",
       "    .dataframe tbody tr th:only-of-type {\n",
       "        vertical-align: middle;\n",
       "    }\n",
       "\n",
       "    .dataframe tbody tr th {\n",
       "        vertical-align: top;\n",
       "    }\n",
       "\n",
       "    .dataframe thead th {\n",
       "        text-align: right;\n",
       "    }\n",
       "</style>\n",
       "<table border=\"1\" class=\"dataframe\">\n",
       "  <thead>\n",
       "    <tr style=\"text-align: right;\">\n",
       "      <th></th>\n",
       "      <th>price</th>\n",
       "      <th>predicted</th>\n",
       "    </tr>\n",
       "  </thead>\n",
       "  <tbody>\n",
       "    <tr>\n",
       "      <th>0</th>\n",
       "      <td>25</td>\n",
       "      <td>33.0</td>\n",
       "    </tr>\n",
       "    <tr>\n",
       "      <th>1</th>\n",
       "      <td>50</td>\n",
       "      <td>63.0</td>\n",
       "    </tr>\n",
       "    <tr>\n",
       "      <th>2</th>\n",
       "      <td>45</td>\n",
       "      <td>57.0</td>\n",
       "    </tr>\n",
       "    <tr>\n",
       "      <th>3</th>\n",
       "      <td>72</td>\n",
       "      <td>79.0</td>\n",
       "    </tr>\n",
       "    <tr>\n",
       "      <th>4</th>\n",
       "      <td>36</td>\n",
       "      <td>64.0</td>\n",
       "    </tr>\n",
       "    <tr>\n",
       "      <th>5</th>\n",
       "      <td>67</td>\n",
       "      <td>58.0</td>\n",
       "    </tr>\n",
       "    <tr>\n",
       "      <th>6</th>\n",
       "      <td>31</td>\n",
       "      <td>38.0</td>\n",
       "    </tr>\n",
       "    <tr>\n",
       "      <th>7</th>\n",
       "      <td>150</td>\n",
       "      <td>195.0</td>\n",
       "    </tr>\n",
       "    <tr>\n",
       "      <th>8</th>\n",
       "      <td>25</td>\n",
       "      <td>36.0</td>\n",
       "    </tr>\n",
       "    <tr>\n",
       "      <th>9</th>\n",
       "      <td>70</td>\n",
       "      <td>69.0</td>\n",
       "    </tr>\n",
       "  </tbody>\n",
       "</table>\n",
       "</div>"
      ],
      "text/plain": [
       "   price  predicted\n",
       "0     25       33.0\n",
       "1     50       63.0\n",
       "2     45       57.0\n",
       "3     72       79.0\n",
       "4     36       64.0\n",
       "5     67       58.0\n",
       "6     31       38.0\n",
       "7    150      195.0\n",
       "8     25       36.0\n",
       "9     70       69.0"
      ]
     },
     "execution_count": 534,
     "metadata": {},
     "output_type": "execute_result"
    }
   ],
   "source": [
    "# check prediction variance\n",
    "y_pred_df = pd.DataFrame(y_pred,columns=['predicted']).reset_index(drop=True)\n",
    "y_test_df = pd.DataFrame(y_test).reset_index(drop=True)\n",
    "prediction_results = pd.concat([y_test_df,y_pred_df],axis=1)\n",
    "prediction_results['predicted'] = round(prediction_results['predicted'],0)\n",
    "prediction_results.head(10)\n",
    "# y_test_df.head()"
   ]
  },
  {
   "cell_type": "code",
   "execution_count": 537,
   "metadata": {},
   "outputs": [
    {
     "data": {
      "text/html": [
       "<div>\n",
       "<style scoped>\n",
       "    .dataframe tbody tr th:only-of-type {\n",
       "        vertical-align: middle;\n",
       "    }\n",
       "\n",
       "    .dataframe tbody tr th {\n",
       "        vertical-align: top;\n",
       "    }\n",
       "\n",
       "    .dataframe thead th {\n",
       "        text-align: right;\n",
       "    }\n",
       "</style>\n",
       "<table border=\"1\" class=\"dataframe\">\n",
       "  <thead>\n",
       "    <tr style=\"text-align: right;\">\n",
       "      <th></th>\n",
       "      <th>price</th>\n",
       "      <th>predicted</th>\n",
       "    </tr>\n",
       "  </thead>\n",
       "  <tbody>\n",
       "    <tr>\n",
       "      <th>count</th>\n",
       "      <td>4086.00000</td>\n",
       "      <td>4086.000000</td>\n",
       "    </tr>\n",
       "    <tr>\n",
       "      <th>mean</th>\n",
       "      <td>69.49070</td>\n",
       "      <td>69.272394</td>\n",
       "    </tr>\n",
       "    <tr>\n",
       "      <th>std</th>\n",
       "      <td>151.66407</td>\n",
       "      <td>56.186322</td>\n",
       "    </tr>\n",
       "    <tr>\n",
       "      <th>min</th>\n",
       "      <td>8.00000</td>\n",
       "      <td>14.000000</td>\n",
       "    </tr>\n",
       "    <tr>\n",
       "      <th>25%</th>\n",
       "      <td>35.00000</td>\n",
       "      <td>40.000000</td>\n",
       "    </tr>\n",
       "    <tr>\n",
       "      <th>50%</th>\n",
       "      <td>50.00000</td>\n",
       "      <td>59.000000</td>\n",
       "    </tr>\n",
       "    <tr>\n",
       "      <th>75%</th>\n",
       "      <td>79.00000</td>\n",
       "      <td>81.000000</td>\n",
       "    </tr>\n",
       "    <tr>\n",
       "      <th>max</th>\n",
       "      <td>8000.00000</td>\n",
       "      <td>2055.000000</td>\n",
       "    </tr>\n",
       "  </tbody>\n",
       "</table>\n",
       "</div>"
      ],
      "text/plain": [
       "            price    predicted\n",
       "count  4086.00000  4086.000000\n",
       "mean     69.49070    69.272394\n",
       "std     151.66407    56.186322\n",
       "min       8.00000    14.000000\n",
       "25%      35.00000    40.000000\n",
       "50%      50.00000    59.000000\n",
       "75%      79.00000    81.000000\n",
       "max    8000.00000  2055.000000"
      ]
     },
     "execution_count": 537,
     "metadata": {},
     "output_type": "execute_result"
    }
   ],
   "source": [
    "prediction_results.describe()"
   ]
  },
  {
   "cell_type": "code",
   "execution_count": 547,
   "metadata": {},
   "outputs": [
    {
     "data": {
      "image/png": "[encoded data removed]",
      "text/plain": [
       "<Figure size 576x432 with 1 Axes>"
      ]
     },
     "metadata": {
      "needs_background": "light"
     },
     "output_type": "display_data"
    }
   ],
   "source": [
    "# plot the distributions\n",
    "actual_prices_df=prediction_results['price'].value_counts().rename('total').reset_index()\n",
    "actual_prices_df.columns = ['price','total']\n",
    "predicted_prices_df=prediction_results['predicted'].value_counts().rename('total').reset_index()\n",
    "predicted_prices_df.columns = ['predicted','total']\n",
    "\n",
    "# plot the distributions\n",
    "fig,ax=plt.subplots(figsize=(8,6))\n",
    "sns.scatterplot(x='price',y='total',data=actual_prices_df,label='Actual',ax=ax)\n",
    "sns.scatterplot(x='predicted',y='total',data=predicted_prices_df,label='Predicted',ax=ax)\n",
    "plt.xlim(0,500)\n",
    "plt.xlabel(\"Price ($)\")\n",
    "plt.ylabel(\"Total Listings\")\n",
    "plt.title('Total Actual V Predicted Prices')\n",
    "plt.show()"
   ]
  },
  {
   "cell_type": "code",
   "execution_count": null,
   "metadata": {},
   "outputs": [],
   "source": []
  },
  {
   "cell_type": "code",
   "execution_count": null,
   "metadata": {},
   "outputs": [],
   "source": []
  }
 ],
 "metadata": {
  "kernelspec": {
   "display_name": "Python 3",
   "language": "python",
   "name": "python3"
  },
  "language_info": {
   "codemirror_mode": {
    "name": "ipython",
    "version": 3
   },
   "file_extension": ".py",
   "mimetype": "text/x-python",
   "name": "python",
   "nbconvert_exporter": "python",
   "pygments_lexer": "ipython3",
   "version": "3.8.3"
  }
 },
 "nbformat": 4,
 "nbformat_minor": 4
}
